{
 "metadata": {
  "language_info": {
   "codemirror_mode": {
    "name": "ipython",
    "version": 3
   },
   "file_extension": ".py",
   "mimetype": "text/x-python",
   "name": "python",
   "nbconvert_exporter": "python",
   "pygments_lexer": "ipython3",
   "version": "3.8.5-final"
  },
  "orig_nbformat": 2,
  "kernelspec": {
   "name": "python38564bit207240a302f84cf383d7b6dbf8fca3f2",
   "display_name": "Python 3.8.5 64-bit",
   "language": "python"
  }
 },
 "nbformat": 4,
 "nbformat_minor": 2,
 "cells": [
  {
   "source": [
    "# 1. Giới thiệu\n",
    "* Là một thuật toán thuộc nhóm Supervised Learning dc sử dụng cho cả classification và regression.\n",
    "* Decision tree dc sử dụng để phát triển các model dự đoán và phân loại trong nh lĩnh vực khác nhau như:\n",
    "  * Business Management\n",
    "  * Customer Relationship Management\n",
    "  * Fraudulent Statemant Detection\n",
    "  * Engineering\n",
    "  * Energy Consumption\n",
    "  * Fault Diagnosis\n",
    "  * Healthcare Management\n",
    "  * Agriculture\n",
    "  * ...\n",
    "* Decision Tree thường dc sử dụng trog nghiên cứu hoạt động, đặc biệt trong phân tích quyết định, giúp xác định chiến lược có khả năng đạt dc mục tiêu tốt nhất."
   ],
   "cell_type": "markdown",
   "metadata": {}
  },
  {
   "source": [
    "# 2. Thuật toán\n",
    "* Tìm các tính năng _(feature)_ mô tả có chứa thông tin nhất về target feature và sau đó chia tập dữ liệu dọc theo các giá trị của các feature này sao cho các giá trị target feature cho các tập con _(sub dataset)_ càng thuần khiết càng tốt.\n",
    "\n",
    "$\\Rightarrow$ Các tính năng mô tả dẫn đến target feature thuần thiết nhất dc gọi là có thông tin nhất."
   ],
   "cell_type": "markdown",
   "metadata": {}
  },
  {
   "source": [
    "## 2.1. Demo với Gini"
   ],
   "cell_type": "markdown",
   "metadata": {}
  },
  {
   "cell_type": "code",
   "execution_count": 1,
   "metadata": {},
   "outputs": [],
   "source": [
    "import numpy as np\n",
    "import pandas as pd\n",
    "from modules.preprocessing import CPreprocessing"
   ]
  },
  {
   "cell_type": "code",
   "execution_count": 2,
   "metadata": {},
   "outputs": [],
   "source": [
    "X = np.array([[\"Red\", \"Sports\", \"Domestic\"],\n",
    "              [\"Red\", \"Sports\", \"Domestic\"],\n",
    "              [\"Red\", \"Sports\", \"Domestic\"],               \n",
    "              [\"Yellow\", \"Sports\", \"Domestic\"],\n",
    "              [\"Yellow\", \"Sports\", \"Imported\"],              \n",
    "              [\"Yellow\", \"SUV\", \"Imported\"],               \n",
    "              [\"Yellow\", \"SUV\", \"Imported\"],               \n",
    "              [\"Yellow\", \"SUV\", \"Domestic\"],              \n",
    "              [\"Red\", \"SUV\", \"Imported\"],               \n",
    "              [\"Red\", \"Sports\", \"Imported\"]])\n",
    "\n",
    "y = np.array([\"Yes\", \"No\", \"Yes\", \"No\", \"Yes\", \"No\", \"Yes\", \"No\", \"No\", \"Yes\"])"
   ]
  },
  {
   "cell_type": "code",
   "execution_count": 3,
   "metadata": {},
   "outputs": [
    {
     "output_type": "execute_result",
     "data": {
      "text/plain": [
       "   color_Red  color_Yellow  type_SUV  type_Sports  origin_Domestic  \\\n",
       "0          1             0         0            1                1   \n",
       "1          1             0         0            1                1   \n",
       "2          1             0         0            1                1   \n",
       "3          0             1         0            1                1   \n",
       "4          0             1         0            1                0   \n",
       "5          0             1         1            0                0   \n",
       "6          0             1         1            0                0   \n",
       "7          0             1         1            0                1   \n",
       "8          1             0         1            0                0   \n",
       "9          1             0         0            1                0   \n",
       "\n",
       "   origin_Imported  \n",
       "0                0  \n",
       "1                0  \n",
       "2                0  \n",
       "3                0  \n",
       "4                1  \n",
       "5                1  \n",
       "6                1  \n",
       "7                0  \n",
       "8                1  \n",
       "9                1  "
      ],
      "text/html": "<div>\n<style scoped>\n    .dataframe tbody tr th:only-of-type {\n        vertical-align: middle;\n    }\n\n    .dataframe tbody tr th {\n        vertical-align: top;\n    }\n\n    .dataframe thead th {\n        text-align: right;\n    }\n</style>\n<table border=\"1\" class=\"dataframe\">\n  <thead>\n    <tr style=\"text-align: right;\">\n      <th></th>\n      <th>color_Red</th>\n      <th>color_Yellow</th>\n      <th>type_SUV</th>\n      <th>type_Sports</th>\n      <th>origin_Domestic</th>\n      <th>origin_Imported</th>\n    </tr>\n  </thead>\n  <tbody>\n    <tr>\n      <th>0</th>\n      <td>1</td>\n      <td>0</td>\n      <td>0</td>\n      <td>1</td>\n      <td>1</td>\n      <td>0</td>\n    </tr>\n    <tr>\n      <th>1</th>\n      <td>1</td>\n      <td>0</td>\n      <td>0</td>\n      <td>1</td>\n      <td>1</td>\n      <td>0</td>\n    </tr>\n    <tr>\n      <th>2</th>\n      <td>1</td>\n      <td>0</td>\n      <td>0</td>\n      <td>1</td>\n      <td>1</td>\n      <td>0</td>\n    </tr>\n    <tr>\n      <th>3</th>\n      <td>0</td>\n      <td>1</td>\n      <td>0</td>\n      <td>1</td>\n      <td>1</td>\n      <td>0</td>\n    </tr>\n    <tr>\n      <th>4</th>\n      <td>0</td>\n      <td>1</td>\n      <td>0</td>\n      <td>1</td>\n      <td>0</td>\n      <td>1</td>\n    </tr>\n    <tr>\n      <th>5</th>\n      <td>0</td>\n      <td>1</td>\n      <td>1</td>\n      <td>0</td>\n      <td>0</td>\n      <td>1</td>\n    </tr>\n    <tr>\n      <th>6</th>\n      <td>0</td>\n      <td>1</td>\n      <td>1</td>\n      <td>0</td>\n      <td>0</td>\n      <td>1</td>\n    </tr>\n    <tr>\n      <th>7</th>\n      <td>0</td>\n      <td>1</td>\n      <td>1</td>\n      <td>0</td>\n      <td>1</td>\n      <td>0</td>\n    </tr>\n    <tr>\n      <th>8</th>\n      <td>1</td>\n      <td>0</td>\n      <td>1</td>\n      <td>0</td>\n      <td>0</td>\n      <td>1</td>\n    </tr>\n    <tr>\n      <th>9</th>\n      <td>1</td>\n      <td>0</td>\n      <td>0</td>\n      <td>1</td>\n      <td>0</td>\n      <td>1</td>\n    </tr>\n  </tbody>\n</table>\n</div>"
     },
     "metadata": {},
     "execution_count": 3
    }
   ],
   "source": [
    "X = pd.DataFrame(X, columns=['color', 'type', 'origin'])\n",
    "X_now = CPreprocessing(X).encoding()\n",
    "\n",
    "X_now"
   ]
  },
  {
   "cell_type": "code",
   "execution_count": 4,
   "metadata": {},
   "outputs": [
    {
     "output_type": "execute_result",
     "data": {
      "text/plain": [
       "   stolen_Yes\n",
       "0           1\n",
       "1           0\n",
       "2           1\n",
       "3           0\n",
       "4           1\n",
       "5           0\n",
       "6           1\n",
       "7           0\n",
       "8           0\n",
       "9           1"
      ],
      "text/html": "<div>\n<style scoped>\n    .dataframe tbody tr th:only-of-type {\n        vertical-align: middle;\n    }\n\n    .dataframe tbody tr th {\n        vertical-align: top;\n    }\n\n    .dataframe thead th {\n        text-align: right;\n    }\n</style>\n<table border=\"1\" class=\"dataframe\">\n  <thead>\n    <tr style=\"text-align: right;\">\n      <th></th>\n      <th>stolen_Yes</th>\n    </tr>\n  </thead>\n  <tbody>\n    <tr>\n      <th>0</th>\n      <td>1</td>\n    </tr>\n    <tr>\n      <th>1</th>\n      <td>0</td>\n    </tr>\n    <tr>\n      <th>2</th>\n      <td>1</td>\n    </tr>\n    <tr>\n      <th>3</th>\n      <td>0</td>\n    </tr>\n    <tr>\n      <th>4</th>\n      <td>1</td>\n    </tr>\n    <tr>\n      <th>5</th>\n      <td>0</td>\n    </tr>\n    <tr>\n      <th>6</th>\n      <td>1</td>\n    </tr>\n    <tr>\n      <th>7</th>\n      <td>0</td>\n    </tr>\n    <tr>\n      <th>8</th>\n      <td>0</td>\n    </tr>\n    <tr>\n      <th>9</th>\n      <td>1</td>\n    </tr>\n  </tbody>\n</table>\n</div>"
     },
     "metadata": {},
     "execution_count": 4
    }
   ],
   "source": [
    "y = pd.DataFrame(y, columns=['stolen'])\n",
    "y_now = CPreprocessing(y).encoding(drop_first=True)\n",
    "\n",
    "y_now"
   ]
  },
  {
   "source": [
    "Training model"
   ],
   "cell_type": "markdown",
   "metadata": {}
  },
  {
   "cell_type": "code",
   "execution_count": 5,
   "metadata": {},
   "outputs": [],
   "source": [
    "from modules.decision_tree import CDecisionTree"
   ]
  },
  {
   "cell_type": "code",
   "execution_count": 6,
   "metadata": {},
   "outputs": [],
   "source": [
    "model = CDecisionTree(X_now, y_now)\n",
    "model.initModel()"
   ]
  },
  {
   "source": [
    "Test khả năng dự đoán của model"
   ],
   "cell_type": "markdown",
   "metadata": {}
  },
  {
   "cell_type": "code",
   "execution_count": 7,
   "metadata": {},
   "outputs": [],
   "source": [
    "X_new = [[1, 0, 1, 0, 1, 0]] #\"Red\", \"SUV\", \"Domestic\""
   ]
  },
  {
   "cell_type": "code",
   "execution_count": 8,
   "metadata": {},
   "outputs": [
    {
     "output_type": "execute_result",
     "data": {
      "text/plain": [
       "array([0], dtype=uint8)"
      ]
     },
     "metadata": {},
     "execution_count": 8
    }
   ],
   "source": [
    "model.predict(X_new)"
   ]
  },
  {
   "source": [
    "> **Nhận xét**\n",
    "> * Vậy với tập dữ liệu `Red, SUV, Domestic` thì model dự đoán xe sẽ ko bị mất trộm."
   ],
   "cell_type": "markdown",
   "metadata": {}
  },
  {
   "source": [
    "Trực quan hóa"
   ],
   "cell_type": "markdown",
   "metadata": {}
  },
  {
   "cell_type": "code",
   "execution_count": 9,
   "metadata": {},
   "outputs": [
    {
     "output_type": "execute_result",
     "data": {
      "image/png": "[encoded data removed]",
      "text/plain": [
       "<IPython.core.display.Image object>"
      ]
     },
     "metadata": {},
     "execution_count": 9
    }
   ],
   "source": [
    "model.visualTree()"
   ]
  },
  {
   "source": [
    "## 2.2. Entropy và Information Gain\n",
    "![](../images/32.png)\n",
    "* Entropy = 0 $\\Rightarrow$ mẫu hoàn toàn thuần khiết.\n",
    "* Entropy = 1 $\\Rightarrow$ mẫu ko thuần thiết.\n",
    "* Tùy vào số lượng các class trong dataset, entropy có thể lớn hơn 1, tuy nhiên ý nghĩa thì như nhau, entroy càng lớn thì càng ít thuần thiết."
   ],
   "cell_type": "markdown",
   "metadata": {}
  },
  {
   "source": [],
   "cell_type": "markdown",
   "metadata": {}
  },
  {
   "source": [
    "### 2.2.1. Information Gain\n",
    "* Dựa vào việc giảm entropy sau khi dataset dc phân chia dc trên một thuộc tính.\n",
    "* Information Gain cao nhất có nghĩa là giảm entropy xuống thấp nhất."
   ],
   "cell_type": "markdown",
   "metadata": {}
  },
  {
   "source": [
    "### 2.2.2. Công thức của Entropy\n",
    "$$Entropy = \\Sigma_{i = 1}^C {-p_i * log_2(p_i)} = -\\Sigma_{i = 1}^C {p_i * log_2(p_i)}$$\n",
    "$$Gain(target, features) = Entropy(target) - Entropy(target, features)$$\n",
    "* Tính Gain cho từng thuộc tính, theo class của kết quả.\n",
    "* Thuộc tính nào trong nhóm có Gain lớn nhất $\\Rightarrow$ chọn thuộc tính đó để chia nhánh cho cây."
   ],
   "cell_type": "markdown",
   "metadata": {}
  },
  {
   "source": [
    "### 2.2.3. Tính Gain cho Color\n",
    "![](../images/33.png)"
   ],
   "cell_type": "markdown",
   "metadata": {}
  },
  {
   "source": [
    "* Color: |`Red`| = 5, |`Yellow`| = 5\n",
    "  * (Color = `Red` & Stolen = `Yes`) = $\\dfrac{3}{5}$\n",
    "  * (Color = `Red` & Stolen = `No`) = $\\dfrac{2}{5}$\n",
    "  \n",
    "  $\\Rightarrow Entropy(Red) = -1 * \\dfrac{3}{5}*log_2(\\dfrac{3}{5}) + \\dfrac{2}{5}*log_2({\\dfrac{2}{5}}) = 0.971$\n",
    "\n",
    "  * (Color = `Yellow` & Stolen = `Yes`) = $\\dfrac{2}{5}$\n",
    "  * (Color = `Yellow` & Stolen = `No`) = $\\dfrac{3}{5}$\n",
    "  \n",
    "  $\\Rightarrow Entropy(Yellow) = -1 * \\dfrac{2}{5}*log_2(\\dfrac{2}{5}) + \\dfrac{3}{5}*log_2({\\dfrac{3}{5}}) = 0.971$\n",
    "\n",
    "$\\Rightarrow Entropy(Stolen, Color) = \\dfrac{5}{10}*Entropy(Red) + \\dfrac{5}{10}*Entropy(Yellow) = 0.971$\n",
    "\n",
    "* $Entropy(target) = -1*(p(yes) * log_2(yes) + p(no)*log_2(no)) = -1*(\\dfrac{5}{10}*log_2({\\dfrac{5}{10}}) + \\dfrac{5}{10}*log_2({\\dfrac{5}{10}})) = 1$\n",
    "\n",
    "$\\Rightarrow Gain = Entropy(target) - Entropy(target, features) = 1 - 0.971 = 0.029$"
   ],
   "cell_type": "markdown",
   "metadata": {}
  },
  {
   "source": [
    "* Làm tương tự cho các thuộc tính còn lại.\n",
    "* So sánh Information Gain của các thuộc tính $\\Rightarrow$ chọn ra thuộc tính có Gain lớn nhất để chia cây."
   ],
   "cell_type": "markdown",
   "metadata": {}
  },
  {
   "source": [
    "# 3. Ưu điểm & Khuyết điểm\n",
    "* Ưu điểm:\n",
    "  * Ko cần chuẩn hóa các feature.\n",
    "  * Có thể áp dụng dc cho cả Classification và Regression\n",
    "  * Có thể áp dụng dc cho các quan hệ phi tuyến.\n",
    "* Khuyết điểm\n",
    "  * Nếu có các feature liên tục thì cây trở nên rất lớn và khó diễn giải.\n",
    "  * Những thay đổi nhỏ trong dữ liệu dẫn đến cây hoàn toàn khác $\\Rightarrow$ có thể dùng random forest để khắc phục.\n",
    "  * Nếu số lượng các feature lớn mà số mẫu lại nhỏ thì có thể dẫn đến kết quả bị kém chất lượng."
   ],
   "cell_type": "markdown",
   "metadata": {}
  },
  {
   "source": [
    "# 4. Demo với Python"
   ],
   "cell_type": "markdown",
   "metadata": {}
  },
  {
   "source": [
    "Đọc dữ liệu"
   ],
   "cell_type": "markdown",
   "metadata": {}
  },
  {
   "cell_type": "code",
   "execution_count": 10,
   "metadata": {},
   "outputs": [],
   "source": [
    "from modules.file import CPandasFile"
   ]
  },
  {
   "cell_type": "code",
   "execution_count": 18,
   "metadata": {},
   "outputs": [
    {
     "output_type": "execute_result",
     "data": {
      "text/plain": [
       "     sepallength  sepalwidth  petallength  petalwidth            iris\n",
       "0            5.1         3.5          1.4         0.2     Iris-setosa\n",
       "1            4.9         3.0          1.4         0.2     Iris-setosa\n",
       "2            4.7         3.2          1.3         0.2     Iris-setosa\n",
       "3            4.6         3.1          1.5         0.2     Iris-setosa\n",
       "4            5.0         3.6          1.4         0.2     Iris-setosa\n",
       "..           ...         ...          ...         ...             ...\n",
       "145          6.7         3.0          5.2         2.3  Iris-virginica\n",
       "146          6.3         2.5          5.0         1.9  Iris-virginica\n",
       "147          6.5         3.0          5.2         2.0  Iris-virginica\n",
       "148          6.2         3.4          5.4         2.3  Iris-virginica\n",
       "149          5.9         3.0          5.1         1.8  Iris-virginica\n",
       "\n",
       "[150 rows x 5 columns]"
      ],
      "text/html": "<div>\n<style scoped>\n    .dataframe tbody tr th:only-of-type {\n        vertical-align: middle;\n    }\n\n    .dataframe tbody tr th {\n        vertical-align: top;\n    }\n\n    .dataframe thead th {\n        text-align: right;\n    }\n</style>\n<table border=\"1\" class=\"dataframe\">\n  <thead>\n    <tr style=\"text-align: right;\">\n      <th></th>\n      <th>sepallength</th>\n      <th>sepalwidth</th>\n      <th>petallength</th>\n      <th>petalwidth</th>\n      <th>iris</th>\n    </tr>\n  </thead>\n  <tbody>\n    <tr>\n      <th>0</th>\n      <td>5.1</td>\n      <td>3.5</td>\n      <td>1.4</td>\n      <td>0.2</td>\n      <td>Iris-setosa</td>\n    </tr>\n    <tr>\n      <th>1</th>\n      <td>4.9</td>\n      <td>3.0</td>\n      <td>1.4</td>\n      <td>0.2</td>\n      <td>Iris-setosa</td>\n    </tr>\n    <tr>\n      <th>2</th>\n      <td>4.7</td>\n      <td>3.2</td>\n      <td>1.3</td>\n      <td>0.2</td>\n      <td>Iris-setosa</td>\n    </tr>\n    <tr>\n      <th>3</th>\n      <td>4.6</td>\n      <td>3.1</td>\n      <td>1.5</td>\n      <td>0.2</td>\n      <td>Iris-setosa</td>\n    </tr>\n    <tr>\n      <th>4</th>\n      <td>5.0</td>\n      <td>3.6</td>\n      <td>1.4</td>\n      <td>0.2</td>\n      <td>Iris-setosa</td>\n    </tr>\n    <tr>\n      <th>...</th>\n      <td>...</td>\n      <td>...</td>\n      <td>...</td>\n      <td>...</td>\n      <td>...</td>\n    </tr>\n    <tr>\n      <th>145</th>\n      <td>6.7</td>\n      <td>3.0</td>\n      <td>5.2</td>\n      <td>2.3</td>\n      <td>Iris-virginica</td>\n    </tr>\n    <tr>\n      <th>146</th>\n      <td>6.3</td>\n      <td>2.5</td>\n      <td>5.0</td>\n      <td>1.9</td>\n      <td>Iris-virginica</td>\n    </tr>\n    <tr>\n      <th>147</th>\n      <td>6.5</td>\n      <td>3.0</td>\n      <td>5.2</td>\n      <td>2.0</td>\n      <td>Iris-virginica</td>\n    </tr>\n    <tr>\n      <th>148</th>\n      <td>6.2</td>\n      <td>3.4</td>\n      <td>5.4</td>\n      <td>2.3</td>\n      <td>Iris-virginica</td>\n    </tr>\n    <tr>\n      <th>149</th>\n      <td>5.9</td>\n      <td>3.0</td>\n      <td>5.1</td>\n      <td>1.8</td>\n      <td>Iris-virginica</td>\n    </tr>\n  </tbody>\n</table>\n<p>150 rows × 5 columns</p>\n</div>"
     },
     "metadata": {},
     "execution_count": 18
    }
   ],
   "source": [
    "iris = CPandasFile().readExcel(r'./data/Iris.xls')\n",
    "\n",
    "iris"
   ]
  },
  {
   "source": [
    "Tạo ra tập `X` và `y`"
   ],
   "cell_type": "markdown",
   "metadata": {}
  },
  {
   "cell_type": "code",
   "execution_count": 17,
   "metadata": {},
   "outputs": [],
   "source": [
    "X = iris[['sepallength', 'sepalwidth', 'petallength', 'petalwidth']]\n",
    "y = iris['iris']"
   ]
  },
  {
   "cell_type": "code",
   "execution_count": null,
   "metadata": {},
   "outputs": [],
   "source": []
  }
 ]
}
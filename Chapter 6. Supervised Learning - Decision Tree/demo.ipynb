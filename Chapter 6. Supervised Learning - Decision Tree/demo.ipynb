{
 "metadata": {
  "language_info": {
   "codemirror_mode": {
    "name": "ipython",
    "version": 3
   },
   "file_extension": ".py",
   "mimetype": "text/x-python",
   "name": "python",
   "nbconvert_exporter": "python",
   "pygments_lexer": "ipython3",
   "version": 3
  },
  "orig_nbformat": 2
 },
 "nbformat": 4,
 "nbformat_minor": 2,
 "cells": [
  {
   "source": [
    "# 1. Giới thiệu\n",
    "* Là một thuật toán thuộc nhóm Supervised Learning dc sử dụng cho cả classification và regression.\n",
    "* Decision tree dc sử dụng để phát triển các model dự đoán và phân loại trong nh lĩnh vực khác nhau như:\n",
    "  * Business Management\n",
    "  * Customer Relationship Management\n",
    "  * Fraudulent Statemant Detection\n",
    "  * Engineering\n",
    "  * Energy Consumption\n",
    "  * Fault Diagnosis\n",
    "  * Healthcare Management\n",
    "  * Agriculture\n",
    "  * ...\n",
    "* Decision Tree thường dc sử dụng trog nghiên cứu hoạt động, đặc biệt trong phân tích quyết định, giúp xác định chiến lược có khả năng đạt dc mục tiêu tốt nhất."
   ],
   "cell_type": "markdown",
   "metadata": {}
  },
  {
   "source": [
    "# 2. Thuật toán\n",
    "* Tìm các tính năng _(feature)_ mô tả có chứa thông tin nhất về target feature và sau đó chia tập dữ liệu dọc theo các giá trị của các feature này sao cho các giá trị target feature cho các tập con _(sub dataset)_ càng thuần khiết càng tốt.\n",
    "\n",
    "$\\Rightarrow$ Các tính năng mô tả dẫn đến target feature thuần thiết nhất dc gọi là có thông tin nhất."
   ],
   "cell_type": "markdown",
   "metadata": {}
  },
  {
   "cell_type": "code",
   "execution_count": null,
   "metadata": {},
   "outputs": [],
   "source": []
  }
 ]
}
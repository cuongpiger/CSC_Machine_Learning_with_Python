{
 "metadata": {
  "language_info": {
   "codemirror_mode": {
    "name": "ipython",
    "version": 3
   },
   "file_extension": ".py",
   "mimetype": "text/x-python",
   "name": "python",
   "nbconvert_exporter": "python",
   "pygments_lexer": "ipython3",
   "version": "3.8.5-final"
  },
  "orig_nbformat": 2,
  "kernelspec": {
   "name": "python3",
   "display_name": "Python 3.8.5 64-bit",
   "metadata": {
    "interpreter": {
     "hash": "31f2aee4e71d21fbe5cf8b01ff0e069b9275f58929596ceb00d14d90e3e16cd6"
    }
   }
  }
 },
 "nbformat": 4,
 "nbformat_minor": 2,
 "cells": [
  {
   "cell_type": "code",
   "execution_count": 1,
   "metadata": {},
   "outputs": [],
   "source": [
    "%load_ext autoreload\n",
    "%autoreload 2"
   ]
  },
  {
   "cell_type": "code",
   "execution_count": 2,
   "metadata": {},
   "outputs": [],
   "source": [
    "from modules.eclat import CEclat"
   ]
  },
  {
   "cell_type": "code",
   "execution_count": 3,
   "metadata": {},
   "outputs": [
    {
     "output_type": "execute_result",
     "data": {
      "text/plain": [
       "[['Eggs', 'Milk', 'Onion', 'Nutmeg', 'Kidney Beans', 'Yogurt'],\n",
       " ['Dill', 'Onion', 'Nutmeg', 'Eggs', 'Yogurt'],\n",
       " ['Milk', 'Apple', 'Kidney Beans', 'Eggs'],\n",
       " ['Milk', 'Unicorn', 'Corn', 'Kidney Beans', 'Yogurt'],\n",
       " ['Corn', 'Onion', 'Kidney Beans', 'Ice cream', 'Eggs'],\n",
       " ['Orange', 'Corn', 'Eggs', 'Yogurt'],\n",
       " ['Milk', 'Apple', 'Orange', 'Eggs'],\n",
       " ['Corn', 'Coke', 'Kidney Beans', 'Ice cream'],\n",
       " ['Dill', 'Onion', 'Nutmeg'],\n",
       " ['Coke', 'Apple', 'Ice cream']]"
      ]
     },
     "metadata": {},
     "execution_count": 3
    }
   ],
   "source": [
    "data = [\n",
    "    ['Eggs', 'Milk', 'Onion', 'Nutmeg', 'Kidney Beans', 'Yogurt'],\n",
    "    ['Dill', 'Onion', 'Nutmeg', 'Eggs', 'Yogurt'],\n",
    "    ['Milk', 'Apple', 'Kidney Beans', 'Eggs'],\n",
    "    ['Milk', 'Unicorn', 'Corn', 'Kidney Beans', 'Yogurt'],\n",
    "    ['Corn', 'Onion', 'Kidney Beans', 'Ice cream', 'Eggs'],\n",
    "    ['Orange', 'Corn', 'Eggs', 'Yogurt'],\n",
    "    ['Milk', 'Apple', 'Orange', 'Eggs'],\n",
    "    ['Corn', 'Coke', 'Kidney Beans', 'Ice cream'],\n",
    "    ['Dill', 'Onion', 'Nutmeg'],\n",
    "    ['Coke', 'Apple', 'Ice cream']\n",
    "]\n",
    "\n",
    "data"
   ]
  },
  {
   "cell_type": "code",
   "execution_count": 4,
   "metadata": {},
   "outputs": [
    {
     "output_type": "execute_result",
     "data": {
      "text/plain": [
       "[('Eggs', {0, 1, 2, 4, 5, 6}),\n",
       " ('Milk', {0, 2, 3, 6}),\n",
       " ('Onion', {0, 1, 4, 8}),\n",
       " ('Nutmeg', {0, 1, 8}),\n",
       " ('Kidney Beans', {0, 2, 3, 4, 7}),\n",
       " ('Yogurt', {0, 1, 3, 5}),\n",
       " ('Dill', {1, 8}),\n",
       " ('Apple', {2, 6, 9}),\n",
       " ('Unicorn', {3}),\n",
       " ('Corn', {3, 4, 5, 7}),\n",
       " ('Ice cream', {4, 7, 9}),\n",
       " ('Orange', {5, 6}),\n",
       " ('Coke', {7, 9})]"
      ]
     },
     "metadata": {},
     "execution_count": 4
    }
   ],
   "source": [
    "model = CEclat(data)\n",
    "\n",
    "model.transactions"
   ]
  },
  {
   "cell_type": "code",
   "execution_count": 5,
   "metadata": {},
   "outputs": [
    {
     "output_type": "execute_result",
     "data": {
      "text/plain": [
       "{('Coke', 'Ice cream'): 2,\n",
       " ('Orange', 'Eggs'): 2,\n",
       " ('Ice cream', 'Corn'): 2,\n",
       " ('Ice cream', 'Corn', 'Kidney Beans'): 2,\n",
       " ('Ice cream', 'Kidney Beans'): 2,\n",
       " ('Corn', 'Yogurt'): 2,\n",
       " ('Corn', 'Kidney Beans'): 3,\n",
       " ('Corn', 'Eggs'): 2,\n",
       " ('Apple', 'Milk'): 2,\n",
       " ('Apple', 'Milk', 'Eggs'): 2,\n",
       " ('Apple', 'Eggs'): 2,\n",
       " ('Dill', 'Nutmeg'): 2,\n",
       " ('Dill', 'Nutmeg', 'Onion'): 2,\n",
       " ('Dill', 'Onion'): 2,\n",
       " ('Yogurt', 'Kidney Beans'): 2,\n",
       " ('Yogurt', 'Kidney Beans', 'Milk'): 2,\n",
       " ('Yogurt', 'Nutmeg'): 2,\n",
       " ('Yogurt', 'Nutmeg', 'Onion'): 2,\n",
       " ('Yogurt', 'Nutmeg', 'Onion', 'Eggs'): 2,\n",
       " ('Yogurt', 'Nutmeg', 'Eggs'): 2,\n",
       " ('Yogurt', 'Onion'): 2,\n",
       " ('Yogurt', 'Onion', 'Eggs'): 2,\n",
       " ('Yogurt', 'Milk'): 2,\n",
       " ('Yogurt', 'Eggs'): 3,\n",
       " ('Kidney Beans', 'Onion'): 2,\n",
       " ('Kidney Beans', 'Onion', 'Eggs'): 2,\n",
       " ('Kidney Beans', 'Milk'): 3,\n",
       " ('Kidney Beans', 'Milk', 'Eggs'): 2,\n",
       " ('Kidney Beans', 'Eggs'): 3,\n",
       " ('Nutmeg', 'Onion'): 3,\n",
       " ('Nutmeg', 'Onion', 'Eggs'): 2,\n",
       " ('Nutmeg', 'Eggs'): 2,\n",
       " ('Onion', 'Eggs'): 3,\n",
       " ('Milk', 'Eggs'): 3}"
      ]
     },
     "metadata": {},
     "execution_count": 5
    }
   ],
   "source": [
    "res = model.initModel(2, 2)\n",
    "\n",
    "res"
   ]
  },
  {
   "cell_type": "code",
   "execution_count": null,
   "metadata": {},
   "outputs": [],
   "source": []
  }
 ]
}
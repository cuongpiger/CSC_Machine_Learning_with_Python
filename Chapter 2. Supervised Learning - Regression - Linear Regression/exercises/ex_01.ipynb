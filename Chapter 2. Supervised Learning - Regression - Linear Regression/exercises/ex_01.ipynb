{
 "metadata": {
  "language_info": {
   "codemirror_mode": {
    "name": "ipython",
    "version": 3
   },
   "file_extension": ".py",
   "mimetype": "text/x-python",
   "name": "python",
   "nbconvert_exporter": "python",
   "pygments_lexer": "ipython3",
   "version": 3
  },
  "orig_nbformat": 2
 },
 "nbformat": 4,
 "nbformat_minor": 2,
 "cells": [
  {
   "source": [
    "# Exercise 1: Iris - Simple Linear Regression\n",
    "* Cho dữ liệu [**Iris.xls**](https://github.com/cuongpiger/CSC_Machine_Learning_with_Python/blob/main/Chapter%202.%20Supervised%20Learning%20-%20Regression%20-%20Linear%20Regression/data/Iris.xls)"
   ],
   "cell_type": "markdown",
   "metadata": {}
  },
  {
   "cell_type": "code",
   "execution_count": null,
   "metadata": {},
   "outputs": [],
   "source": []
  }
 ]
}
{
 "metadata": {
  "language_info": {
   "codemirror_mode": {
    "name": "ipython",
    "version": 3
   },
   "file_extension": ".py",
   "mimetype": "text/x-python",
   "name": "python",
   "nbconvert_exporter": "python",
   "pygments_lexer": "ipython3",
   "version": 3
  },
  "orig_nbformat": 2
 },
 "nbformat": 4,
 "nbformat_minor": 2,
 "cells": [
  {
   "source": [
    "# Exercise 1: Iris - Simple Linear Regression\n",
    "* Cho dữ liệu **Iris.xls**.\n",
    "* Yêu cầu: Thực hiện **Linenear Regression** để xây dựng model từ thuộc tính `pentalwidth` để dự đoán `pentallength`, yêu cầu thực hiện các bước sau:\n",
    "  1. Đọc dữ liệu và trực quan hóa dữ liệu.\n",
    "  2. Tạo `X_train`, `y_train`, `X_test`, `y_test` từ hai thuộc tính `pentalwidth` _(input)_ và `pentallength` _(output)_ với tỉ lệ test data là 0.2.\n",
    "  3. Áp dụng Linear Regression để build model.\n",
    "  4. Vẽ hình và nhận xét kết quả.\n",
    "  5. Nếu `pentalwidth` là $1.5$ thì `pentallength` là bao nhiêu?"
   ],
   "cell_type": "markdown",
   "metadata": {}
  },
  {
   "cell_type": "code",
   "execution_count": null,
   "metadata": {},
   "outputs": [],
   "source": []
  }
 ]
}
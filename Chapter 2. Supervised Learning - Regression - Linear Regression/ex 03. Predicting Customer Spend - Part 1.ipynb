{
 "metadata": {
  "language_info": {
   "codemirror_mode": {
    "name": "ipython",
    "version": 3
   },
   "file_extension": ".py",
   "mimetype": "text/x-python",
   "name": "python",
   "nbconvert_exporter": "python",
   "pygments_lexer": "ipython3",
   "version": "3.8.5-final"
  },
  "orig_nbformat": 2,
  "kernelspec": {
   "name": "python3",
   "display_name": "Python 3.8.5 64-bit",
   "metadata": {
    "interpreter": {
     "hash": "31f2aee4e71d21fbe5cf8b01ff0e069b9275f58929596ceb00d14d90e3e16cd6"
    }
   }
  }
 },
 "nbformat": 4,
 "nbformat_minor": 2,
 "cells": [
  {
   "source": [
    "# Exercise 3: Predicting Customer Spend - Part 1\n",
    "* Cho dữ liệu **retail_transactions.csv** _(chưa dc tiền xử lí)_ bao gồm các thông tin như sau:\n",
    "  ![](../images/19.jpg)\n",
    "  Hãy chuẩn hóa dữ liệu này và lưu vào tập tin **wrangled_transaction.csv**, gồm các thông tin như sau:\n",
    "  ![](../images/20.jpg)\n",
    "* Thông tin cung cấp:\n",
    "  * Dataset này chứa các lịch sử giao dịch từ năm 2010 đến 2011. Với mỗi giao dịch có chứa **customer identifier** _(CustomerID)_, **số lượng hàng đã mua** _(Quantity)_, **ngày mua** _(InvoiceDate)_, **đơn giá** _(Unitprice)_ và một số thông tin khác về mặt hàng đã mua.\n",
    "  * Cần tiền xử lí dữ liệu này thành dữ liệu giao dịch của khách hàng từ năm 2010 sau đó so với chỉ tiêu năm 2011. Vậy nên cần tạo ra các feature từ dữ liệu cho năm 2010 và tính toán số tiền đã chi cho năm 2011.\n",
    "  * Khi xây dựng mô hình này, nó sẽ khái quất cho những năm tới. Nhờ đó doanh nghiệp có thể sử dụng dữ liệu năm 2020 để dự đoán trc hành vi chi tiêu vào năm 2021 _(trừ khi thị trường hoặc doanh nghiệp đã thay đổi đáng kể kể từ khoảng thời gian dữ liệu dc sử dụng để build model)_."
   ],
   "cell_type": "markdown",
   "metadata": {}
  },
  {
   "source": [
    "**Đọc dữ liệu, tìm hiểu thông tin từ dữ liệu**"
   ],
   "cell_type": "markdown",
   "metadata": {}
  },
  {
   "cell_type": "code",
   "execution_count": 1,
   "metadata": {},
   "outputs": [],
   "source": [
    "import pandas as pd\n",
    "import pandas_profiling as pp"
   ]
  },
  {
   "cell_type": "code",
   "execution_count": 2,
   "metadata": {},
   "outputs": [
    {
     "output_type": "execute_result",
     "data": {
      "text/plain": [
       "   InvoiceNo StockCode                          Description  Quantity  \\\n",
       "0     546729     22775  PURPLE DRAWERKNOB ACRYLIC EDWARDIAN        12   \n",
       "1     559898     21868                 POTTING SHED TEA MUG         6   \n",
       "2     548648     71459       HANGING JAM JAR T-LIGHT HOLDER        24   \n",
       "3     540543     22173   METAL 4 HOOK HANGER FRENCH CHATEAU         4   \n",
       "4     561390     20726                   LUNCH BAG WOODLAND        10   \n",
       "\n",
       "           InvoiceDate  UnitPrice  CustomerID         Country  \n",
       "0  2011-03-16 11:36:00       1.25     18231.0  United Kingdom  \n",
       "1  2011-07-13 12:18:00       1.25     16225.0  United Kingdom  \n",
       "2  2011-04-01 13:20:00       0.85     12949.0  United Kingdom  \n",
       "3  2011-01-09 15:23:00       2.95     14395.0  United Kingdom  \n",
       "4  2011-07-27 09:52:00       1.65     17068.0  United Kingdom  "
      ],
      "text/html": "<div>\n<style scoped>\n    .dataframe tbody tr th:only-of-type {\n        vertical-align: middle;\n    }\n\n    .dataframe tbody tr th {\n        vertical-align: top;\n    }\n\n    .dataframe thead th {\n        text-align: right;\n    }\n</style>\n<table border=\"1\" class=\"dataframe\">\n  <thead>\n    <tr style=\"text-align: right;\">\n      <th></th>\n      <th>InvoiceNo</th>\n      <th>StockCode</th>\n      <th>Description</th>\n      <th>Quantity</th>\n      <th>InvoiceDate</th>\n      <th>UnitPrice</th>\n      <th>CustomerID</th>\n      <th>Country</th>\n    </tr>\n  </thead>\n  <tbody>\n    <tr>\n      <th>0</th>\n      <td>546729</td>\n      <td>22775</td>\n      <td>PURPLE DRAWERKNOB ACRYLIC EDWARDIAN</td>\n      <td>12</td>\n      <td>2011-03-16 11:36:00</td>\n      <td>1.25</td>\n      <td>18231.0</td>\n      <td>United Kingdom</td>\n    </tr>\n    <tr>\n      <th>1</th>\n      <td>559898</td>\n      <td>21868</td>\n      <td>POTTING SHED TEA MUG</td>\n      <td>6</td>\n      <td>2011-07-13 12:18:00</td>\n      <td>1.25</td>\n      <td>16225.0</td>\n      <td>United Kingdom</td>\n    </tr>\n    <tr>\n      <th>2</th>\n      <td>548648</td>\n      <td>71459</td>\n      <td>HANGING JAM JAR T-LIGHT HOLDER</td>\n      <td>24</td>\n      <td>2011-04-01 13:20:00</td>\n      <td>0.85</td>\n      <td>12949.0</td>\n      <td>United Kingdom</td>\n    </tr>\n    <tr>\n      <th>3</th>\n      <td>540543</td>\n      <td>22173</td>\n      <td>METAL 4 HOOK HANGER FRENCH CHATEAU</td>\n      <td>4</td>\n      <td>2011-01-09 15:23:00</td>\n      <td>2.95</td>\n      <td>14395.0</td>\n      <td>United Kingdom</td>\n    </tr>\n    <tr>\n      <th>4</th>\n      <td>561390</td>\n      <td>20726</td>\n      <td>LUNCH BAG WOODLAND</td>\n      <td>10</td>\n      <td>2011-07-27 09:52:00</td>\n      <td>1.65</td>\n      <td>17068.0</td>\n      <td>United Kingdom</td>\n    </tr>\n  </tbody>\n</table>\n</div>"
     },
     "metadata": {},
     "execution_count": 2
    }
   ],
   "source": [
    "df = pd.read_csv(r'./data/retail_transactions.csv')\n",
    "df.head()"
   ]
  },
  {
   "cell_type": "code",
   "execution_count": 3,
   "metadata": {},
   "outputs": [
    {
     "output_type": "execute_result",
     "data": {
      "text/plain": [
       "(397884, 8)"
      ]
     },
     "metadata": {},
     "execution_count": 3
    }
   ],
   "source": [
    "df.shape"
   ]
  },
  {
   "cell_type": "code",
   "execution_count": 4,
   "metadata": {},
   "outputs": [],
   "source": [
    "# profile = pp.ProfileReport(df)\n",
    "# profile"
   ]
  },
  {
   "source": [
    "**Chuyển đổi dữ liệu cột `InvoiceDate` thành định dạng `datetime`**"
   ],
   "cell_type": "markdown",
   "metadata": {}
  },
  {
   "cell_type": "code",
   "execution_count": 5,
   "metadata": {},
   "outputs": [
    {
     "output_type": "execute_result",
     "data": {
      "text/plain": [
       "   InvoiceNo StockCode                          Description  Quantity  \\\n",
       "0     546729     22775  PURPLE DRAWERKNOB ACRYLIC EDWARDIAN        12   \n",
       "1     559898     21868                 POTTING SHED TEA MUG         6   \n",
       "2     548648     71459       HANGING JAM JAR T-LIGHT HOLDER        24   \n",
       "3     540543     22173   METAL 4 HOOK HANGER FRENCH CHATEAU         4   \n",
       "4     561390     20726                   LUNCH BAG WOODLAND        10   \n",
       "\n",
       "          InvoiceDate  UnitPrice  CustomerID         Country  \n",
       "0 2011-03-16 11:36:00       1.25     18231.0  United Kingdom  \n",
       "1 2011-07-13 12:18:00       1.25     16225.0  United Kingdom  \n",
       "2 2011-04-01 13:20:00       0.85     12949.0  United Kingdom  \n",
       "3 2011-01-09 15:23:00       2.95     14395.0  United Kingdom  \n",
       "4 2011-07-27 09:52:00       1.65     17068.0  United Kingdom  "
      ],
      "text/html": "<div>\n<style scoped>\n    .dataframe tbody tr th:only-of-type {\n        vertical-align: middle;\n    }\n\n    .dataframe tbody tr th {\n        vertical-align: top;\n    }\n\n    .dataframe thead th {\n        text-align: right;\n    }\n</style>\n<table border=\"1\" class=\"dataframe\">\n  <thead>\n    <tr style=\"text-align: right;\">\n      <th></th>\n      <th>InvoiceNo</th>\n      <th>StockCode</th>\n      <th>Description</th>\n      <th>Quantity</th>\n      <th>InvoiceDate</th>\n      <th>UnitPrice</th>\n      <th>CustomerID</th>\n      <th>Country</th>\n    </tr>\n  </thead>\n  <tbody>\n    <tr>\n      <th>0</th>\n      <td>546729</td>\n      <td>22775</td>\n      <td>PURPLE DRAWERKNOB ACRYLIC EDWARDIAN</td>\n      <td>12</td>\n      <td>2011-03-16 11:36:00</td>\n      <td>1.25</td>\n      <td>18231.0</td>\n      <td>United Kingdom</td>\n    </tr>\n    <tr>\n      <th>1</th>\n      <td>559898</td>\n      <td>21868</td>\n      <td>POTTING SHED TEA MUG</td>\n      <td>6</td>\n      <td>2011-07-13 12:18:00</td>\n      <td>1.25</td>\n      <td>16225.0</td>\n      <td>United Kingdom</td>\n    </tr>\n    <tr>\n      <th>2</th>\n      <td>548648</td>\n      <td>71459</td>\n      <td>HANGING JAM JAR T-LIGHT HOLDER</td>\n      <td>24</td>\n      <td>2011-04-01 13:20:00</td>\n      <td>0.85</td>\n      <td>12949.0</td>\n      <td>United Kingdom</td>\n    </tr>\n    <tr>\n      <th>3</th>\n      <td>540543</td>\n      <td>22173</td>\n      <td>METAL 4 HOOK HANGER FRENCH CHATEAU</td>\n      <td>4</td>\n      <td>2011-01-09 15:23:00</td>\n      <td>2.95</td>\n      <td>14395.0</td>\n      <td>United Kingdom</td>\n    </tr>\n    <tr>\n      <th>4</th>\n      <td>561390</td>\n      <td>20726</td>\n      <td>LUNCH BAG WOODLAND</td>\n      <td>10</td>\n      <td>2011-07-27 09:52:00</td>\n      <td>1.65</td>\n      <td>17068.0</td>\n      <td>United Kingdom</td>\n    </tr>\n  </tbody>\n</table>\n</div>"
     },
     "metadata": {},
     "execution_count": 5
    }
   ],
   "source": [
    "df['InvoiceDate'] = pd.to_datetime(df['InvoiceDate'])\n",
    "df.head()"
   ]
  },
  {
   "source": [
    "**Tạo cột `revenue` = `UnitPrice` * `Quantity`**"
   ],
   "cell_type": "markdown",
   "metadata": {}
  },
  {
   "cell_type": "code",
   "execution_count": 6,
   "metadata": {},
   "outputs": [
    {
     "output_type": "execute_result",
     "data": {
      "text/plain": [
       "   InvoiceNo StockCode                          Description  Quantity  \\\n",
       "0     546729     22775  PURPLE DRAWERKNOB ACRYLIC EDWARDIAN        12   \n",
       "1     559898     21868                 POTTING SHED TEA MUG         6   \n",
       "2     548648     71459       HANGING JAM JAR T-LIGHT HOLDER        24   \n",
       "3     540543     22173   METAL 4 HOOK HANGER FRENCH CHATEAU         4   \n",
       "4     561390     20726                   LUNCH BAG WOODLAND        10   \n",
       "\n",
       "          InvoiceDate  UnitPrice  CustomerID         Country  revenue  \n",
       "0 2011-03-16 11:36:00       1.25     18231.0  United Kingdom     15.0  \n",
       "1 2011-07-13 12:18:00       1.25     16225.0  United Kingdom      7.5  \n",
       "2 2011-04-01 13:20:00       0.85     12949.0  United Kingdom     20.4  \n",
       "3 2011-01-09 15:23:00       2.95     14395.0  United Kingdom     11.8  \n",
       "4 2011-07-27 09:52:00       1.65     17068.0  United Kingdom     16.5  "
      ],
      "text/html": "<div>\n<style scoped>\n    .dataframe tbody tr th:only-of-type {\n        vertical-align: middle;\n    }\n\n    .dataframe tbody tr th {\n        vertical-align: top;\n    }\n\n    .dataframe thead th {\n        text-align: right;\n    }\n</style>\n<table border=\"1\" class=\"dataframe\">\n  <thead>\n    <tr style=\"text-align: right;\">\n      <th></th>\n      <th>InvoiceNo</th>\n      <th>StockCode</th>\n      <th>Description</th>\n      <th>Quantity</th>\n      <th>InvoiceDate</th>\n      <th>UnitPrice</th>\n      <th>CustomerID</th>\n      <th>Country</th>\n      <th>revenue</th>\n    </tr>\n  </thead>\n  <tbody>\n    <tr>\n      <th>0</th>\n      <td>546729</td>\n      <td>22775</td>\n      <td>PURPLE DRAWERKNOB ACRYLIC EDWARDIAN</td>\n      <td>12</td>\n      <td>2011-03-16 11:36:00</td>\n      <td>1.25</td>\n      <td>18231.0</td>\n      <td>United Kingdom</td>\n      <td>15.0</td>\n    </tr>\n    <tr>\n      <th>1</th>\n      <td>559898</td>\n      <td>21868</td>\n      <td>POTTING SHED TEA MUG</td>\n      <td>6</td>\n      <td>2011-07-13 12:18:00</td>\n      <td>1.25</td>\n      <td>16225.0</td>\n      <td>United Kingdom</td>\n      <td>7.5</td>\n    </tr>\n    <tr>\n      <th>2</th>\n      <td>548648</td>\n      <td>71459</td>\n      <td>HANGING JAM JAR T-LIGHT HOLDER</td>\n      <td>24</td>\n      <td>2011-04-01 13:20:00</td>\n      <td>0.85</td>\n      <td>12949.0</td>\n      <td>United Kingdom</td>\n      <td>20.4</td>\n    </tr>\n    <tr>\n      <th>3</th>\n      <td>540543</td>\n      <td>22173</td>\n      <td>METAL 4 HOOK HANGER FRENCH CHATEAU</td>\n      <td>4</td>\n      <td>2011-01-09 15:23:00</td>\n      <td>2.95</td>\n      <td>14395.0</td>\n      <td>United Kingdom</td>\n      <td>11.8</td>\n    </tr>\n    <tr>\n      <th>4</th>\n      <td>561390</td>\n      <td>20726</td>\n      <td>LUNCH BAG WOODLAND</td>\n      <td>10</td>\n      <td>2011-07-27 09:52:00</td>\n      <td>1.65</td>\n      <td>17068.0</td>\n      <td>United Kingdom</td>\n      <td>16.5</td>\n    </tr>\n  </tbody>\n</table>\n</div>"
     },
     "metadata": {},
     "execution_count": 6
    }
   ],
   "source": [
    "df['revenue'] = df['UnitPrice']*df['Quantity']\n",
    "df.head()"
   ]
  },
  {
   "source": [
    "**Quan sát thấy rằng mỗi hóa đơn dc trải đều trên nhiều hàng, mỗi hàng là một loại sản phẩm dc mua $\\Rightarrow$ cần nhóm dữ liệu lại sao cho mỗi `InvoiceNo` chỉ nằm trên duy nhất một hàng với các feature đi theo là `revenue`, `InvoiceDate` và `CustomerID`.**"
   ],
   "cell_type": "markdown",
   "metadata": {}
  },
  {
   "cell_type": "code",
   "execution_count": 7,
   "metadata": {},
   "outputs": [
    {
     "output_type": "execute_result",
     "data": {
      "text/plain": [
       "           revenue         InvoiceDate  CustomerID\n",
       "InvoiceNo                                         \n",
       "536365      139.12 2010-12-01 08:26:00     17850.0\n",
       "536366       22.20 2010-12-01 08:28:00     17850.0\n",
       "536367      278.73 2010-12-01 08:34:00     13047.0\n",
       "536368       70.05 2010-12-01 08:34:00     13047.0\n",
       "536369       17.85 2010-12-01 08:35:00     13047.0"
      ],
      "text/html": "<div>\n<style scoped>\n    .dataframe tbody tr th:only-of-type {\n        vertical-align: middle;\n    }\n\n    .dataframe tbody tr th {\n        vertical-align: top;\n    }\n\n    .dataframe thead th {\n        text-align: right;\n    }\n</style>\n<table border=\"1\" class=\"dataframe\">\n  <thead>\n    <tr style=\"text-align: right;\">\n      <th></th>\n      <th>revenue</th>\n      <th>InvoiceDate</th>\n      <th>CustomerID</th>\n    </tr>\n    <tr>\n      <th>InvoiceNo</th>\n      <th></th>\n      <th></th>\n      <th></th>\n    </tr>\n  </thead>\n  <tbody>\n    <tr>\n      <th>536365</th>\n      <td>139.12</td>\n      <td>2010-12-01 08:26:00</td>\n      <td>17850.0</td>\n    </tr>\n    <tr>\n      <th>536366</th>\n      <td>22.20</td>\n      <td>2010-12-01 08:28:00</td>\n      <td>17850.0</td>\n    </tr>\n    <tr>\n      <th>536367</th>\n      <td>278.73</td>\n      <td>2010-12-01 08:34:00</td>\n      <td>13047.0</td>\n    </tr>\n    <tr>\n      <th>536368</th>\n      <td>70.05</td>\n      <td>2010-12-01 08:34:00</td>\n      <td>13047.0</td>\n    </tr>\n    <tr>\n      <th>536369</th>\n      <td>17.85</td>\n      <td>2010-12-01 08:35:00</td>\n      <td>13047.0</td>\n    </tr>\n  </tbody>\n</table>\n</div>"
     },
     "metadata": {},
     "execution_count": 7
    }
   ],
   "source": [
    "operations = {\n",
    "    'revenue': 'sum',\n",
    "    'InvoiceDate': 'first',\n",
    "    'CustomerID': 'first'\n",
    "}\n",
    "\n",
    "df = df.groupby('InvoiceNo').agg(operations)\n",
    "df.head()"
   ]
  },
  {
   "cell_type": "code",
   "execution_count": 8,
   "metadata": {},
   "outputs": [
    {
     "output_type": "execute_result",
     "data": {
      "text/plain": [
       "(18532, 3)"
      ]
     },
     "metadata": {},
     "execution_count": 8
    }
   ],
   "source": [
    "df.shape"
   ]
  },
  {
   "source": [
    "> **Nhận xét**\n",
    "> * Từ dữ liệu ban đầu bao gồm 397884 quan sát, bây giờ chỉ còn 18532 quan sát."
   ],
   "cell_type": "markdown",
   "metadata": {}
  },
  {
   "source": [
    "**Vì ta cần sử dụng _năm_ để quyết định để quyết định quan sát nào sẽ dc đưa vào tập input $\\Rightarrow$ tạo ra thêm một thuộc tính là `year`**"
   ],
   "cell_type": "markdown",
   "metadata": {}
  },
  {
   "cell_type": "code",
   "execution_count": 9,
   "metadata": {},
   "outputs": [
    {
     "output_type": "execute_result",
     "data": {
      "text/plain": [
       "           revenue         InvoiceDate  CustomerID  year\n",
       "InvoiceNo                                               \n",
       "536365      139.12 2010-12-01 08:26:00     17850.0  2010\n",
       "536366       22.20 2010-12-01 08:28:00     17850.0  2010\n",
       "536367      278.73 2010-12-01 08:34:00     13047.0  2010\n",
       "536368       70.05 2010-12-01 08:34:00     13047.0  2010\n",
       "536369       17.85 2010-12-01 08:35:00     13047.0  2010"
      ],
      "text/html": "<div>\n<style scoped>\n    .dataframe tbody tr th:only-of-type {\n        vertical-align: middle;\n    }\n\n    .dataframe tbody tr th {\n        vertical-align: top;\n    }\n\n    .dataframe thead th {\n        text-align: right;\n    }\n</style>\n<table border=\"1\" class=\"dataframe\">\n  <thead>\n    <tr style=\"text-align: right;\">\n      <th></th>\n      <th>revenue</th>\n      <th>InvoiceDate</th>\n      <th>CustomerID</th>\n      <th>year</th>\n    </tr>\n    <tr>\n      <th>InvoiceNo</th>\n      <th></th>\n      <th></th>\n      <th></th>\n      <th></th>\n    </tr>\n  </thead>\n  <tbody>\n    <tr>\n      <th>536365</th>\n      <td>139.12</td>\n      <td>2010-12-01 08:26:00</td>\n      <td>17850.0</td>\n      <td>2010</td>\n    </tr>\n    <tr>\n      <th>536366</th>\n      <td>22.20</td>\n      <td>2010-12-01 08:28:00</td>\n      <td>17850.0</td>\n      <td>2010</td>\n    </tr>\n    <tr>\n      <th>536367</th>\n      <td>278.73</td>\n      <td>2010-12-01 08:34:00</td>\n      <td>13047.0</td>\n      <td>2010</td>\n    </tr>\n    <tr>\n      <th>536368</th>\n      <td>70.05</td>\n      <td>2010-12-01 08:34:00</td>\n      <td>13047.0</td>\n      <td>2010</td>\n    </tr>\n    <tr>\n      <th>536369</th>\n      <td>17.85</td>\n      <td>2010-12-01 08:35:00</td>\n      <td>13047.0</td>\n      <td>2010</td>\n    </tr>\n  </tbody>\n</table>\n</div>"
     },
     "metadata": {},
     "execution_count": 9
    }
   ],
   "source": [
    "df['year'] = df['InvoiceDate'].apply(lambda x: x.year)\n",
    "\n",
    "df.head()"
   ]
  },
  {
   "source": [
    "**Ngày thực hiện giao dịch cũng có thể là một feature quan trọng, thông tin về khoảng thời gian từ lần cuối khách hàng mua hàng so với cuối năm và lần đầu khách hàng mua hàng vào năm sau so với cuối năm trước cũng có thể là những thông tin cực kì hữu ích, nên cần tính các khoảng cách thời gian này trên mỗi hóa đơn.**"
   ],
   "cell_type": "markdown",
   "metadata": {}
  },
  {
   "cell_type": "code",
   "execution_count": 10,
   "metadata": {},
   "outputs": [
    {
     "output_type": "stream",
     "name": "stderr",
     "text": [
      "<ipython-input-10-5d9ec0479043>:1: FutureWarning: The pandas.datetime class is deprecated and will be removed from pandas in a future version. Import from datetime module instead.\n  df['days_since'] = (pd.datetime(year=2010, month=12, day=31) - df['InvoiceDate']).apply(lambda x: x.days)\n"
     ]
    },
    {
     "output_type": "execute_result",
     "data": {
      "text/plain": [
       "           revenue         InvoiceDate  CustomerID  year  days_since\n",
       "InvoiceNo                                                           \n",
       "536365      139.12 2010-12-01 08:26:00     17850.0  2010          29\n",
       "536366       22.20 2010-12-01 08:28:00     17850.0  2010          29\n",
       "536367      278.73 2010-12-01 08:34:00     13047.0  2010          29\n",
       "536368       70.05 2010-12-01 08:34:00     13047.0  2010          29\n",
       "536369       17.85 2010-12-01 08:35:00     13047.0  2010          29"
      ],
      "text/html": "<div>\n<style scoped>\n    .dataframe tbody tr th:only-of-type {\n        vertical-align: middle;\n    }\n\n    .dataframe tbody tr th {\n        vertical-align: top;\n    }\n\n    .dataframe thead th {\n        text-align: right;\n    }\n</style>\n<table border=\"1\" class=\"dataframe\">\n  <thead>\n    <tr style=\"text-align: right;\">\n      <th></th>\n      <th>revenue</th>\n      <th>InvoiceDate</th>\n      <th>CustomerID</th>\n      <th>year</th>\n      <th>days_since</th>\n    </tr>\n    <tr>\n      <th>InvoiceNo</th>\n      <th></th>\n      <th></th>\n      <th></th>\n      <th></th>\n      <th></th>\n    </tr>\n  </thead>\n  <tbody>\n    <tr>\n      <th>536365</th>\n      <td>139.12</td>\n      <td>2010-12-01 08:26:00</td>\n      <td>17850.0</td>\n      <td>2010</td>\n      <td>29</td>\n    </tr>\n    <tr>\n      <th>536366</th>\n      <td>22.20</td>\n      <td>2010-12-01 08:28:00</td>\n      <td>17850.0</td>\n      <td>2010</td>\n      <td>29</td>\n    </tr>\n    <tr>\n      <th>536367</th>\n      <td>278.73</td>\n      <td>2010-12-01 08:34:00</td>\n      <td>13047.0</td>\n      <td>2010</td>\n      <td>29</td>\n    </tr>\n    <tr>\n      <th>536368</th>\n      <td>70.05</td>\n      <td>2010-12-01 08:34:00</td>\n      <td>13047.0</td>\n      <td>2010</td>\n      <td>29</td>\n    </tr>\n    <tr>\n      <th>536369</th>\n      <td>17.85</td>\n      <td>2010-12-01 08:35:00</td>\n      <td>13047.0</td>\n      <td>2010</td>\n      <td>29</td>\n    </tr>\n  </tbody>\n</table>\n</div>"
     },
     "metadata": {},
     "execution_count": 10
    }
   ],
   "source": [
    "df['days_since'] = (pd.datetime(year=2010, month=12, day=31) - df['InvoiceDate']).apply(lambda x: x.days)\n",
    "\n",
    "df.head()"
   ]
  },
  {
   "cell_type": "code",
   "execution_count": 11,
   "metadata": {},
   "outputs": [
    {
     "output_type": "execute_result",
     "data": {
      "text/plain": [
       "           revenue         InvoiceDate  CustomerID  year  days_since\n",
       "InvoiceNo                                                           \n",
       "581583      124.60 2011-12-09 12:23:00     13777.0  2011        -344\n",
       "581584      140.64 2011-12-09 12:25:00     13777.0  2011        -344\n",
       "581585      329.05 2011-12-09 12:31:00     15804.0  2011        -344\n",
       "581586      339.20 2011-12-09 12:49:00     13113.0  2011        -344\n",
       "581587      249.45 2011-12-09 12:50:00     12680.0  2011        -344"
      ],
      "text/html": "<div>\n<style scoped>\n    .dataframe tbody tr th:only-of-type {\n        vertical-align: middle;\n    }\n\n    .dataframe tbody tr th {\n        vertical-align: top;\n    }\n\n    .dataframe thead th {\n        text-align: right;\n    }\n</style>\n<table border=\"1\" class=\"dataframe\">\n  <thead>\n    <tr style=\"text-align: right;\">\n      <th></th>\n      <th>revenue</th>\n      <th>InvoiceDate</th>\n      <th>CustomerID</th>\n      <th>year</th>\n      <th>days_since</th>\n    </tr>\n    <tr>\n      <th>InvoiceNo</th>\n      <th></th>\n      <th></th>\n      <th></th>\n      <th></th>\n      <th></th>\n    </tr>\n  </thead>\n  <tbody>\n    <tr>\n      <th>581583</th>\n      <td>124.60</td>\n      <td>2011-12-09 12:23:00</td>\n      <td>13777.0</td>\n      <td>2011</td>\n      <td>-344</td>\n    </tr>\n    <tr>\n      <th>581584</th>\n      <td>140.64</td>\n      <td>2011-12-09 12:25:00</td>\n      <td>13777.0</td>\n      <td>2011</td>\n      <td>-344</td>\n    </tr>\n    <tr>\n      <th>581585</th>\n      <td>329.05</td>\n      <td>2011-12-09 12:31:00</td>\n      <td>15804.0</td>\n      <td>2011</td>\n      <td>-344</td>\n    </tr>\n    <tr>\n      <th>581586</th>\n      <td>339.20</td>\n      <td>2011-12-09 12:49:00</td>\n      <td>13113.0</td>\n      <td>2011</td>\n      <td>-344</td>\n    </tr>\n    <tr>\n      <th>581587</th>\n      <td>249.45</td>\n      <td>2011-12-09 12:50:00</td>\n      <td>12680.0</td>\n      <td>2011</td>\n      <td>-344</td>\n    </tr>\n  </tbody>\n</table>\n</div>"
     },
     "metadata": {},
     "execution_count": 11
    }
   ],
   "source": [
    "df.tail()"
   ]
  },
  {
   "source": [
    "**Hiện tại dữ liệu đang dc nhóm theo `InvoiceNo`, nhưng chúng ta cần một dataframe khác _(tạm gọi là X)_ dc nhóm theo `CustomerID`, tại đây ta cần thống kê tổng số tiền mà khách hàng này đã chi ra, khoảng thời gian lâu nhất mà khách hàng này ko mua hàng, và khoảng thời gian ngắn nhất mà khách hàng quay lại mua hàng lần nữa so với lần trc đó, đồng thời cần đếm ra có bao nhiêu lần khách hàng quay lại mua hàng.**"
   ],
   "cell_type": "markdown",
   "metadata": {}
  },
  {
   "cell_type": "code",
   "execution_count": 12,
   "metadata": {},
   "outputs": [
    {
     "output_type": "execute_result",
     "data": {
      "text/plain": [
       "            revenue days_since            \n",
       "                sum        max min nunique\n",
       "CustomerID                                \n",
       "12347.0      711.79         23  23       1\n",
       "12348.0      892.80         14  14       1\n",
       "12370.0     1868.02         16  13       2\n",
       "12377.0     1001.52         10  10       1\n",
       "12383.0      600.72          8   8       1"
      ],
      "text/html": "<div>\n<style scoped>\n    .dataframe tbody tr th:only-of-type {\n        vertical-align: middle;\n    }\n\n    .dataframe tbody tr th {\n        vertical-align: top;\n    }\n\n    .dataframe thead tr th {\n        text-align: left;\n    }\n\n    .dataframe thead tr:last-of-type th {\n        text-align: right;\n    }\n</style>\n<table border=\"1\" class=\"dataframe\">\n  <thead>\n    <tr>\n      <th></th>\n      <th>revenue</th>\n      <th colspan=\"3\" halign=\"left\">days_since</th>\n    </tr>\n    <tr>\n      <th></th>\n      <th>sum</th>\n      <th>max</th>\n      <th>min</th>\n      <th>nunique</th>\n    </tr>\n    <tr>\n      <th>CustomerID</th>\n      <th></th>\n      <th></th>\n      <th></th>\n      <th></th>\n    </tr>\n  </thead>\n  <tbody>\n    <tr>\n      <th>12347.0</th>\n      <td>711.79</td>\n      <td>23</td>\n      <td>23</td>\n      <td>1</td>\n    </tr>\n    <tr>\n      <th>12348.0</th>\n      <td>892.80</td>\n      <td>14</td>\n      <td>14</td>\n      <td>1</td>\n    </tr>\n    <tr>\n      <th>12370.0</th>\n      <td>1868.02</td>\n      <td>16</td>\n      <td>13</td>\n      <td>2</td>\n    </tr>\n    <tr>\n      <th>12377.0</th>\n      <td>1001.52</td>\n      <td>10</td>\n      <td>10</td>\n      <td>1</td>\n    </tr>\n    <tr>\n      <th>12383.0</th>\n      <td>600.72</td>\n      <td>8</td>\n      <td>8</td>\n      <td>1</td>\n    </tr>\n  </tbody>\n</table>\n</div>"
     },
     "metadata": {},
     "execution_count": 12
    }
   ],
   "source": [
    "operations = {\n",
    "    'revenue': 'sum',\n",
    "    'days_since': ['max', 'min', 'nunique']\n",
    "}\n",
    "\n",
    "X = df[df['year'] == 2010].groupby('CustomerID').agg(operations)\n",
    "\n",
    "X.head()"
   ]
  },
  {
   "cell_type": "code",
   "execution_count": 13,
   "metadata": {},
   "outputs": [
    {
     "output_type": "execute_result",
     "data": {
      "text/plain": [
       "            revenue sum  days_since max  days_since min  days_since nunique\n",
       "CustomerID                                                                 \n",
       "12347.0          711.79              23              23                   1\n",
       "12348.0          892.80              14              14                   1\n",
       "12370.0         1868.02              16              13                   2\n",
       "12377.0         1001.52              10              10                   1\n",
       "12383.0          600.72               8               8                   1"
      ],
      "text/html": "<div>\n<style scoped>\n    .dataframe tbody tr th:only-of-type {\n        vertical-align: middle;\n    }\n\n    .dataframe tbody tr th {\n        vertical-align: top;\n    }\n\n    .dataframe thead th {\n        text-align: right;\n    }\n</style>\n<table border=\"1\" class=\"dataframe\">\n  <thead>\n    <tr style=\"text-align: right;\">\n      <th></th>\n      <th>revenue sum</th>\n      <th>days_since max</th>\n      <th>days_since min</th>\n      <th>days_since nunique</th>\n    </tr>\n    <tr>\n      <th>CustomerID</th>\n      <th></th>\n      <th></th>\n      <th></th>\n      <th></th>\n    </tr>\n  </thead>\n  <tbody>\n    <tr>\n      <th>12347.0</th>\n      <td>711.79</td>\n      <td>23</td>\n      <td>23</td>\n      <td>1</td>\n    </tr>\n    <tr>\n      <th>12348.0</th>\n      <td>892.80</td>\n      <td>14</td>\n      <td>14</td>\n      <td>1</td>\n    </tr>\n    <tr>\n      <th>12370.0</th>\n      <td>1868.02</td>\n      <td>16</td>\n      <td>13</td>\n      <td>2</td>\n    </tr>\n    <tr>\n      <th>12377.0</th>\n      <td>1001.52</td>\n      <td>10</td>\n      <td>10</td>\n      <td>1</td>\n    </tr>\n    <tr>\n      <th>12383.0</th>\n      <td>600.72</td>\n      <td>8</td>\n      <td>8</td>\n      <td>1</td>\n    </tr>\n  </tbody>\n</table>\n</div>"
     },
     "metadata": {},
     "execution_count": 13
    }
   ],
   "source": [
    "X.columns = [' '.join(col).strip() for col in X.columns.values]\n",
    "X.head()"
   ]
  },
  {
   "source": [
    "**Tạo thêm một feature mới là `avg_order_cost` _(chi tiêu trung bình cho mỗi đơn hàng)_ bằng cách chia `revenue sum` _(tổng số tiền mà một khách hàng chi ra để mua hàng)_ cho `days_since nunique`.**"
   ],
   "cell_type": "markdown",
   "metadata": {}
  },
  {
   "cell_type": "code",
   "execution_count": 14,
   "metadata": {},
   "outputs": [
    {
     "output_type": "execute_result",
     "data": {
      "text/plain": [
       "            revenue sum  days_since max  days_since min  days_since nunique  \\\n",
       "CustomerID                                                                    \n",
       "12347.0          711.79              23              23                   1   \n",
       "12348.0          892.80              14              14                   1   \n",
       "12370.0         1868.02              16              13                   2   \n",
       "12377.0         1001.52              10              10                   1   \n",
       "12383.0          600.72               8               8                   1   \n",
       "\n",
       "            avg_order_cost  \n",
       "CustomerID                  \n",
       "12347.0             711.79  \n",
       "12348.0             892.80  \n",
       "12370.0             934.01  \n",
       "12377.0            1001.52  \n",
       "12383.0             600.72  "
      ],
      "text/html": "<div>\n<style scoped>\n    .dataframe tbody tr th:only-of-type {\n        vertical-align: middle;\n    }\n\n    .dataframe tbody tr th {\n        vertical-align: top;\n    }\n\n    .dataframe thead th {\n        text-align: right;\n    }\n</style>\n<table border=\"1\" class=\"dataframe\">\n  <thead>\n    <tr style=\"text-align: right;\">\n      <th></th>\n      <th>revenue sum</th>\n      <th>days_since max</th>\n      <th>days_since min</th>\n      <th>days_since nunique</th>\n      <th>avg_order_cost</th>\n    </tr>\n    <tr>\n      <th>CustomerID</th>\n      <th></th>\n      <th></th>\n      <th></th>\n      <th></th>\n      <th></th>\n    </tr>\n  </thead>\n  <tbody>\n    <tr>\n      <th>12347.0</th>\n      <td>711.79</td>\n      <td>23</td>\n      <td>23</td>\n      <td>1</td>\n      <td>711.79</td>\n    </tr>\n    <tr>\n      <th>12348.0</th>\n      <td>892.80</td>\n      <td>14</td>\n      <td>14</td>\n      <td>1</td>\n      <td>892.80</td>\n    </tr>\n    <tr>\n      <th>12370.0</th>\n      <td>1868.02</td>\n      <td>16</td>\n      <td>13</td>\n      <td>2</td>\n      <td>934.01</td>\n    </tr>\n    <tr>\n      <th>12377.0</th>\n      <td>1001.52</td>\n      <td>10</td>\n      <td>10</td>\n      <td>1</td>\n      <td>1001.52</td>\n    </tr>\n    <tr>\n      <th>12383.0</th>\n      <td>600.72</td>\n      <td>8</td>\n      <td>8</td>\n      <td>1</td>\n      <td>600.72</td>\n    </tr>\n  </tbody>\n</table>\n</div>"
     },
     "metadata": {},
     "execution_count": 14
    }
   ],
   "source": [
    "X['avg_order_cost'] = X['revenue sum'] / X['days_since nunique']\n",
    "\n",
    "X.head()"
   ]
  },
  {
   "source": [
    "**Bây giờ, ta đã có các feature input, chúng ta cần kết quả output, đó là tổng doanh thu cho năm 2011 _(ta sẽ tạo một thuộc tính là `revenue_2011`)_ bằng cách nhóm theo `CustomerID` và cộng các giá trị `revenue` lại, cuối cùng ta lưu nó vào biến `y`.**"
   ],
   "cell_type": "markdown",
   "metadata": {}
  },
  {
   "cell_type": "code",
   "execution_count": 15,
   "metadata": {},
   "outputs": [
    {
     "output_type": "execute_result",
     "data": {
      "text/plain": [
       "CustomerID\n",
       "12346.0    77183.60\n",
       "12347.0     3598.21\n",
       "12348.0      904.44\n",
       "12349.0     1757.55\n",
       "12350.0      334.40\n",
       "             ...   \n",
       "18280.0      180.60\n",
       "18281.0       80.82\n",
       "18282.0      178.05\n",
       "18283.0     2094.88\n",
       "18287.0     1837.28\n",
       "Name: revenue, Length: 4219, dtype: float64"
      ]
     },
     "metadata": {},
     "execution_count": 15
    }
   ],
   "source": [
    "y = df[df['year'] == 2011].groupby('CustomerID')['revenue'].sum()\n",
    "\n",
    "y"
   ]
  },
  {
   "cell_type": "code",
   "execution_count": null,
   "metadata": {},
   "outputs": [],
   "source": []
  }
 ]
}
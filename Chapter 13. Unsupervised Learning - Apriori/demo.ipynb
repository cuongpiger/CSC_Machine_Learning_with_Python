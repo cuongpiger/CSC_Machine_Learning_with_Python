{
 "metadata": {
  "language_info": {
   "codemirror_mode": {
    "name": "ipython",
    "version": 3
   },
   "file_extension": ".py",
   "mimetype": "text/x-python",
   "name": "python",
   "nbconvert_exporter": "python",
   "pygments_lexer": "ipython3",
   "version": "3.8.5-final"
  },
  "orig_nbformat": 2,
  "kernelspec": {
   "name": "python3",
   "display_name": "Python 3.8.5 64-bit",
   "metadata": {
    "interpreter": {
     "hash": "31f2aee4e71d21fbe5cf8b01ff0e069b9275f58929596ceb00d14d90e3e16cd6"
    }
   }
  }
 },
 "nbformat": 4,
 "nbformat_minor": 2,
 "cells": [
  {
   "source": [
    "* $support(A)$ dùng để đề cập đến độ phổ biến của $A$ so với tổng số transaction.\n",
    "  # $$support(A) = \\dfrac{\\text{số transaction chứa }A}{\\text{tổng số transaction}}$$\n",
    "  * Miền giá trị của $support(A)$ là $[0, 1]$.\n",
    "\n",
    "* $confidence(A \\rightarrow B)$ đề cập đến khả năng một mặt hàng $B$ cũng sẽ dc mua nếu mặt hàng $A$ dc mua.\n",
    "  # $$confidence(A \\rightarrow B) = \\dfrac{\\text{số transaction chứa cả hai mặt hàng A và B}}{\\text{số transaction chỉ chứa mặt hàng A}}$$\n",
    "  * Miền giá trị của $confidence(A \\rightarrow B)$ là $[0, 1]$.\n",
    "\n",
    "* $lift(A \\rightarrow B)$ đề cập đến sự gia tăng tỉ lệ sẽ bán dc $B$ khi $A$ dc bán.\n",
    "  # $$lift(A \\rightarrow B) = \\dfrac{confidence(A \\rightarrow B)}{support(B)}$$\n",
    "  * Miền giá trị của $lift(A \\rightarrow B)$ là $[0, \\infty)$\n",
    "  * Nếu:\n",
    "    * $lift(A \\rightarrow B) = 1$: ko có sự liên kết giữa sản phẩm $A$ và $B$, tức $A$ và $B$ độc lập.\n",
    "    * $lift(A \\rightarrow B) > 1$: có nh` khả năng $A$ và $B$ sẽ dc mua cùng nhau.\n",
    "    * $lift(A \\rightarrow B) < 1$: hai sản phẩm này sẽ ko bao h dc mua cùng nhau.\n",
    "\n",
    "* $leverage(A \\rightarrow B)$ đề cập đến sự khác biệt giữa tần số quan sát mà $A$ và $B$ cùng xuất hiện và tần số dc kì vọng là $A$ và $B$ độc lập, nếu $leverage(A \\rightarrow B) = 0$ thì $A$ và $B$ độc lập.\n",
    "  # $$leverage(A \\rightarrow B) = support(A \\rightarrow B) - support(A)*support(B)$$\n",
    "  * Với $support(A \\rightarrow B) = \\dfrac{\\text{tổng số transaction chứa cả A và B}}{\\text{tổng số transaction}}$\n",
    "  * Miền giá trị của $leverage(A \\rightarrow B)$ là $[-1, 1]$\n",
    "\n",
    "* $conviction(A \\rightarrow B)$ cao có nghĩa là **consequent** _(cái có sau, tức sản phẩm mua sau)_ phụ thuộc nhiều vào **antecedent** _(cái có trc, tức sản phẩm mua trc)_. Trong trường hợp $confidence(A \\rightarrow B) = 1$ thì $1 - confidence(A \\rightarrow B) = 0 \\Rightarrow conviction(A \\rightarrow B) = \\infty$, tức dc xác định là **vô hạn** _($\\infty$)_. Tương tự $lift(A \\rightarrow B)$, nếu các item độc lập thì $conviction(A \\rightarrow B) = 1$.\n",
    "  # $$conviction(A \\rightarrow B) = \\dfrac{1 - support(B)}{1 - confidence(A \\rightarrow B)}$$\n",
    "  * Miền giá trị của $conviction(A \\rightarrow B)$ là $[0, \\infty)$"
   ],
   "cell_type": "markdown",
   "metadata": {}
  },
  {
   "cell_type": "code",
   "execution_count": 1,
   "metadata": {},
   "outputs": [],
   "source": [
    "%load_ext autoreload\n",
    "%autoreload 2"
   ]
  },
  {
   "cell_type": "code",
   "execution_count": 2,
   "metadata": {},
   "outputs": [],
   "source": [
    "from modules.apriori import CApriori\n",
    "import pandas as pd"
   ]
  },
  {
   "cell_type": "code",
   "execution_count": 3,
   "metadata": {},
   "outputs": [
    {
     "output_type": "execute_result",
     "data": {
      "text/plain": [
       "[['Eggs', 'Milk', 'Onion', 'Nutmeg', 'Kidney Beans', 'Yogurt'],\n",
       " ['Dill', 'Onion', 'Nutmeg', 'Eggs', 'Yogurt'],\n",
       " ['Milk', 'Apple', 'Kidney Beans', 'Eggs'],\n",
       " ['Milk', 'Unicorn', 'Corn', 'Kidney Beans', 'Yogurt'],\n",
       " ['Corn', 'Onion', 'Kidney Beans', 'Ice cream', 'Eggs'],\n",
       " ['Orange', 'Corn', 'Eggs', 'Yogurt'],\n",
       " ['Milk', 'Apple', 'Orange', 'Eggs'],\n",
       " ['Corn', 'Coke', 'Kidney Beans', 'Ice cream'],\n",
       " ['Dill', 'Onion', 'Nutmeg'],\n",
       " ['Coke', 'Apple', 'Ice cream']]"
      ]
     },
     "metadata": {},
     "execution_count": 3
    }
   ],
   "source": [
    "data = [\n",
    "    ['Eggs', 'Milk', 'Onion', 'Nutmeg', 'Kidney Beans', 'Yogurt'],\n",
    "    ['Dill', 'Onion', 'Nutmeg', 'Eggs', 'Yogurt'],\n",
    "    ['Milk', 'Apple', 'Kidney Beans', 'Eggs'],\n",
    "    ['Milk', 'Unicorn', 'Corn', 'Kidney Beans', 'Yogurt'],\n",
    "    ['Corn', 'Onion', 'Kidney Beans', 'Ice cream', 'Eggs'],\n",
    "    ['Orange', 'Corn', 'Eggs', 'Yogurt'],\n",
    "    ['Milk', 'Apple', 'Orange', 'Eggs'],\n",
    "    ['Corn', 'Coke', 'Kidney Beans', 'Ice cream'],\n",
    "    ['Dill', 'Onion', 'Nutmeg'],\n",
    "    ['Coke', 'Apple', 'Ice cream']\n",
    "]\n",
    "\n",
    "data"
   ]
  },
  {
   "cell_type": "code",
   "execution_count": 4,
   "metadata": {},
   "outputs": [
    {
     "output_type": "execute_result",
     "data": {
      "text/plain": [
       "   Apple   Coke   Corn   Dill   Eggs  Ice cream  Kidney Beans   Milk  Nutmeg  \\\n",
       "0  False  False  False  False   True      False          True   True    True   \n",
       "1  False  False  False   True   True      False         False  False    True   \n",
       "2   True  False  False  False   True      False          True   True   False   \n",
       "3  False  False   True  False  False      False          True   True   False   \n",
       "4  False  False   True  False   True       True          True  False   False   \n",
       "5  False  False   True  False   True      False         False  False   False   \n",
       "6   True  False  False  False   True      False         False   True   False   \n",
       "7  False   True   True  False  False       True          True  False   False   \n",
       "8  False  False  False   True  False      False         False  False    True   \n",
       "9   True   True  False  False  False       True         False  False   False   \n",
       "\n",
       "   Onion  Orange  Unicorn  Yogurt  \n",
       "0   True   False    False    True  \n",
       "1   True   False    False    True  \n",
       "2  False   False    False   False  \n",
       "3  False   False     True    True  \n",
       "4   True   False    False   False  \n",
       "5  False    True    False    True  \n",
       "6  False    True    False   False  \n",
       "7  False   False    False   False  \n",
       "8   True   False    False   False  \n",
       "9  False   False    False   False  "
      ],
      "text/html": "<div>\n<style scoped>\n    .dataframe tbody tr th:only-of-type {\n        vertical-align: middle;\n    }\n\n    .dataframe tbody tr th {\n        vertical-align: top;\n    }\n\n    .dataframe thead th {\n        text-align: right;\n    }\n</style>\n<table border=\"1\" class=\"dataframe\">\n  <thead>\n    <tr style=\"text-align: right;\">\n      <th></th>\n      <th>Apple</th>\n      <th>Coke</th>\n      <th>Corn</th>\n      <th>Dill</th>\n      <th>Eggs</th>\n      <th>Ice cream</th>\n      <th>Kidney Beans</th>\n      <th>Milk</th>\n      <th>Nutmeg</th>\n      <th>Onion</th>\n      <th>Orange</th>\n      <th>Unicorn</th>\n      <th>Yogurt</th>\n    </tr>\n  </thead>\n  <tbody>\n    <tr>\n      <th>0</th>\n      <td>False</td>\n      <td>False</td>\n      <td>False</td>\n      <td>False</td>\n      <td>True</td>\n      <td>False</td>\n      <td>True</td>\n      <td>True</td>\n      <td>True</td>\n      <td>True</td>\n      <td>False</td>\n      <td>False</td>\n      <td>True</td>\n    </tr>\n    <tr>\n      <th>1</th>\n      <td>False</td>\n      <td>False</td>\n      <td>False</td>\n      <td>True</td>\n      <td>True</td>\n      <td>False</td>\n      <td>False</td>\n      <td>False</td>\n      <td>True</td>\n      <td>True</td>\n      <td>False</td>\n      <td>False</td>\n      <td>True</td>\n    </tr>\n    <tr>\n      <th>2</th>\n      <td>True</td>\n      <td>False</td>\n      <td>False</td>\n      <td>False</td>\n      <td>True</td>\n      <td>False</td>\n      <td>True</td>\n      <td>True</td>\n      <td>False</td>\n      <td>False</td>\n      <td>False</td>\n      <td>False</td>\n      <td>False</td>\n    </tr>\n    <tr>\n      <th>3</th>\n      <td>False</td>\n      <td>False</td>\n      <td>True</td>\n      <td>False</td>\n      <td>False</td>\n      <td>False</td>\n      <td>True</td>\n      <td>True</td>\n      <td>False</td>\n      <td>False</td>\n      <td>False</td>\n      <td>True</td>\n      <td>True</td>\n    </tr>\n    <tr>\n      <th>4</th>\n      <td>False</td>\n      <td>False</td>\n      <td>True</td>\n      <td>False</td>\n      <td>True</td>\n      <td>True</td>\n      <td>True</td>\n      <td>False</td>\n      <td>False</td>\n      <td>True</td>\n      <td>False</td>\n      <td>False</td>\n      <td>False</td>\n    </tr>\n    <tr>\n      <th>5</th>\n      <td>False</td>\n      <td>False</td>\n      <td>True</td>\n      <td>False</td>\n      <td>True</td>\n      <td>False</td>\n      <td>False</td>\n      <td>False</td>\n      <td>False</td>\n      <td>False</td>\n      <td>True</td>\n      <td>False</td>\n      <td>True</td>\n    </tr>\n    <tr>\n      <th>6</th>\n      <td>True</td>\n      <td>False</td>\n      <td>False</td>\n      <td>False</td>\n      <td>True</td>\n      <td>False</td>\n      <td>False</td>\n      <td>True</td>\n      <td>False</td>\n      <td>False</td>\n      <td>True</td>\n      <td>False</td>\n      <td>False</td>\n    </tr>\n    <tr>\n      <th>7</th>\n      <td>False</td>\n      <td>True</td>\n      <td>True</td>\n      <td>False</td>\n      <td>False</td>\n      <td>True</td>\n      <td>True</td>\n      <td>False</td>\n      <td>False</td>\n      <td>False</td>\n      <td>False</td>\n      <td>False</td>\n      <td>False</td>\n    </tr>\n    <tr>\n      <th>8</th>\n      <td>False</td>\n      <td>False</td>\n      <td>False</td>\n      <td>True</td>\n      <td>False</td>\n      <td>False</td>\n      <td>False</td>\n      <td>False</td>\n      <td>True</td>\n      <td>True</td>\n      <td>False</td>\n      <td>False</td>\n      <td>False</td>\n    </tr>\n    <tr>\n      <th>9</th>\n      <td>True</td>\n      <td>True</td>\n      <td>False</td>\n      <td>False</td>\n      <td>False</td>\n      <td>True</td>\n      <td>False</td>\n      <td>False</td>\n      <td>False</td>\n      <td>False</td>\n      <td>False</td>\n      <td>False</td>\n      <td>False</td>\n    </tr>\n  </tbody>\n</table>\n</div>"
     },
     "metadata": {},
     "execution_count": 4
    }
   ],
   "source": [
    "model = CApriori(data)\n",
    "model.transactions"
   ]
  },
  {
   "cell_type": "code",
   "execution_count": 5,
   "metadata": {},
   "outputs": [
    {
     "output_type": "execute_result",
     "data": {
      "text/plain": [
       "                      support\n",
       "itemsets                     \n",
       "(Apple)                   0.3\n",
       "(Corn)                    0.4\n",
       "(Eggs)                    0.6\n",
       "(Ice cream)               0.3\n",
       "(Kidney Beans)            0.5\n",
       "(Milk)                    0.4\n",
       "(Nutmeg)                  0.3\n",
       "(Onion)                   0.4\n",
       "(Yogurt)                  0.4\n",
       "(Corn, Kidney Beans)      0.3\n",
       "(Kidney Beans, Eggs)      0.3\n",
       "(Milk, Eggs)              0.3\n",
       "(Onion, Eggs)             0.3\n",
       "(Yogurt, Eggs)            0.3\n",
       "(Kidney Beans, Milk)      0.3\n",
       "(Nutmeg, Onion)           0.3"
      ],
      "text/html": "<div>\n<style scoped>\n    .dataframe tbody tr th:only-of-type {\n        vertical-align: middle;\n    }\n\n    .dataframe tbody tr th {\n        vertical-align: top;\n    }\n\n    .dataframe thead th {\n        text-align: right;\n    }\n</style>\n<table border=\"1\" class=\"dataframe\">\n  <thead>\n    <tr style=\"text-align: right;\">\n      <th></th>\n      <th>support</th>\n    </tr>\n    <tr>\n      <th>itemsets</th>\n      <th></th>\n    </tr>\n  </thead>\n  <tbody>\n    <tr>\n      <th>(Apple)</th>\n      <td>0.3</td>\n    </tr>\n    <tr>\n      <th>(Corn)</th>\n      <td>0.4</td>\n    </tr>\n    <tr>\n      <th>(Eggs)</th>\n      <td>0.6</td>\n    </tr>\n    <tr>\n      <th>(Ice cream)</th>\n      <td>0.3</td>\n    </tr>\n    <tr>\n      <th>(Kidney Beans)</th>\n      <td>0.5</td>\n    </tr>\n    <tr>\n      <th>(Milk)</th>\n      <td>0.4</td>\n    </tr>\n    <tr>\n      <th>(Nutmeg)</th>\n      <td>0.3</td>\n    </tr>\n    <tr>\n      <th>(Onion)</th>\n      <td>0.4</td>\n    </tr>\n    <tr>\n      <th>(Yogurt)</th>\n      <td>0.4</td>\n    </tr>\n    <tr>\n      <th>(Corn, Kidney Beans)</th>\n      <td>0.3</td>\n    </tr>\n    <tr>\n      <th>(Kidney Beans, Eggs)</th>\n      <td>0.3</td>\n    </tr>\n    <tr>\n      <th>(Milk, Eggs)</th>\n      <td>0.3</td>\n    </tr>\n    <tr>\n      <th>(Onion, Eggs)</th>\n      <td>0.3</td>\n    </tr>\n    <tr>\n      <th>(Yogurt, Eggs)</th>\n      <td>0.3</td>\n    </tr>\n    <tr>\n      <th>(Kidney Beans, Milk)</th>\n      <td>0.3</td>\n    </tr>\n    <tr>\n      <th>(Nutmeg, Onion)</th>\n      <td>0.3</td>\n    </tr>\n  </tbody>\n</table>\n</div>"
     },
     "metadata": {},
     "execution_count": 5
    }
   ],
   "source": [
    "model.initModel()"
   ]
  },
  {
   "cell_type": "code",
   "execution_count": 10,
   "metadata": {},
   "outputs": [
    {
     "output_type": "execute_result",
     "data": {
      "text/plain": [
       "       antecedents     consequents  antecedent support  consequent support  \\\n",
       "0           (Corn)  (Kidney Beans)                 0.4                 0.5   \n",
       "1   (Kidney Beans)          (Corn)                 0.5                 0.4   \n",
       "2   (Kidney Beans)          (Eggs)                 0.5                 0.6   \n",
       "3           (Eggs)  (Kidney Beans)                 0.6                 0.5   \n",
       "4           (Milk)          (Eggs)                 0.4                 0.6   \n",
       "5           (Eggs)          (Milk)                 0.6                 0.4   \n",
       "6          (Onion)          (Eggs)                 0.4                 0.6   \n",
       "7           (Eggs)         (Onion)                 0.6                 0.4   \n",
       "8         (Yogurt)          (Eggs)                 0.4                 0.6   \n",
       "9           (Eggs)        (Yogurt)                 0.6                 0.4   \n",
       "10  (Kidney Beans)          (Milk)                 0.5                 0.4   \n",
       "11          (Milk)  (Kidney Beans)                 0.4                 0.5   \n",
       "12        (Nutmeg)         (Onion)                 0.3                 0.4   \n",
       "13         (Onion)        (Nutmeg)                 0.4                 0.3   \n",
       "\n",
       "    support  confidence  lift  leverage  conviction  \n",
       "0       0.3        0.75  1.50      0.10         2.0  \n",
       "1       0.3        0.60  1.50      0.10         1.5  \n",
       "2       0.3        0.60  1.00      0.00         1.0  \n",
       "3       0.3        0.50  1.00      0.00         1.0  \n",
       "4       0.3        0.75  1.25      0.06         1.6  \n",
       "5       0.3        0.50  1.25      0.06         1.2  \n",
       "6       0.3        0.75  1.25      0.06         1.6  \n",
       "7       0.3        0.50  1.25      0.06         1.2  \n",
       "8       0.3        0.75  1.25      0.06         1.6  \n",
       "9       0.3        0.50  1.25      0.06         1.2  \n",
       "10      0.3        0.60  1.50      0.10         1.5  \n",
       "11      0.3        0.75  1.50      0.10         2.0  \n",
       "12      0.3        1.00  2.50      0.18         inf  \n",
       "13      0.3        0.75  2.50      0.18         2.8  "
      ],
      "text/html": "<div>\n<style scoped>\n    .dataframe tbody tr th:only-of-type {\n        vertical-align: middle;\n    }\n\n    .dataframe tbody tr th {\n        vertical-align: top;\n    }\n\n    .dataframe thead th {\n        text-align: right;\n    }\n</style>\n<table border=\"1\" class=\"dataframe\">\n  <thead>\n    <tr style=\"text-align: right;\">\n      <th></th>\n      <th>antecedents</th>\n      <th>consequents</th>\n      <th>antecedent support</th>\n      <th>consequent support</th>\n      <th>support</th>\n      <th>confidence</th>\n      <th>lift</th>\n      <th>leverage</th>\n      <th>conviction</th>\n    </tr>\n  </thead>\n  <tbody>\n    <tr>\n      <th>0</th>\n      <td>(Corn)</td>\n      <td>(Kidney Beans)</td>\n      <td>0.4</td>\n      <td>0.5</td>\n      <td>0.3</td>\n      <td>0.75</td>\n      <td>1.50</td>\n      <td>0.10</td>\n      <td>2.0</td>\n    </tr>\n    <tr>\n      <th>1</th>\n      <td>(Kidney Beans)</td>\n      <td>(Corn)</td>\n      <td>0.5</td>\n      <td>0.4</td>\n      <td>0.3</td>\n      <td>0.60</td>\n      <td>1.50</td>\n      <td>0.10</td>\n      <td>1.5</td>\n    </tr>\n    <tr>\n      <th>2</th>\n      <td>(Kidney Beans)</td>\n      <td>(Eggs)</td>\n      <td>0.5</td>\n      <td>0.6</td>\n      <td>0.3</td>\n      <td>0.60</td>\n      <td>1.00</td>\n      <td>0.00</td>\n      <td>1.0</td>\n    </tr>\n    <tr>\n      <th>3</th>\n      <td>(Eggs)</td>\n      <td>(Kidney Beans)</td>\n      <td>0.6</td>\n      <td>0.5</td>\n      <td>0.3</td>\n      <td>0.50</td>\n      <td>1.00</td>\n      <td>0.00</td>\n      <td>1.0</td>\n    </tr>\n    <tr>\n      <th>4</th>\n      <td>(Milk)</td>\n      <td>(Eggs)</td>\n      <td>0.4</td>\n      <td>0.6</td>\n      <td>0.3</td>\n      <td>0.75</td>\n      <td>1.25</td>\n      <td>0.06</td>\n      <td>1.6</td>\n    </tr>\n    <tr>\n      <th>5</th>\n      <td>(Eggs)</td>\n      <td>(Milk)</td>\n      <td>0.6</td>\n      <td>0.4</td>\n      <td>0.3</td>\n      <td>0.50</td>\n      <td>1.25</td>\n      <td>0.06</td>\n      <td>1.2</td>\n    </tr>\n    <tr>\n      <th>6</th>\n      <td>(Onion)</td>\n      <td>(Eggs)</td>\n      <td>0.4</td>\n      <td>0.6</td>\n      <td>0.3</td>\n      <td>0.75</td>\n      <td>1.25</td>\n      <td>0.06</td>\n      <td>1.6</td>\n    </tr>\n    <tr>\n      <th>7</th>\n      <td>(Eggs)</td>\n      <td>(Onion)</td>\n      <td>0.6</td>\n      <td>0.4</td>\n      <td>0.3</td>\n      <td>0.50</td>\n      <td>1.25</td>\n      <td>0.06</td>\n      <td>1.2</td>\n    </tr>\n    <tr>\n      <th>8</th>\n      <td>(Yogurt)</td>\n      <td>(Eggs)</td>\n      <td>0.4</td>\n      <td>0.6</td>\n      <td>0.3</td>\n      <td>0.75</td>\n      <td>1.25</td>\n      <td>0.06</td>\n      <td>1.6</td>\n    </tr>\n    <tr>\n      <th>9</th>\n      <td>(Eggs)</td>\n      <td>(Yogurt)</td>\n      <td>0.6</td>\n      <td>0.4</td>\n      <td>0.3</td>\n      <td>0.50</td>\n      <td>1.25</td>\n      <td>0.06</td>\n      <td>1.2</td>\n    </tr>\n    <tr>\n      <th>10</th>\n      <td>(Kidney Beans)</td>\n      <td>(Milk)</td>\n      <td>0.5</td>\n      <td>0.4</td>\n      <td>0.3</td>\n      <td>0.60</td>\n      <td>1.50</td>\n      <td>0.10</td>\n      <td>1.5</td>\n    </tr>\n    <tr>\n      <th>11</th>\n      <td>(Milk)</td>\n      <td>(Kidney Beans)</td>\n      <td>0.4</td>\n      <td>0.5</td>\n      <td>0.3</td>\n      <td>0.75</td>\n      <td>1.50</td>\n      <td>0.10</td>\n      <td>2.0</td>\n    </tr>\n    <tr>\n      <th>12</th>\n      <td>(Nutmeg)</td>\n      <td>(Onion)</td>\n      <td>0.3</td>\n      <td>0.4</td>\n      <td>0.3</td>\n      <td>1.00</td>\n      <td>2.50</td>\n      <td>0.18</td>\n      <td>inf</td>\n    </tr>\n    <tr>\n      <th>13</th>\n      <td>(Onion)</td>\n      <td>(Nutmeg)</td>\n      <td>0.4</td>\n      <td>0.3</td>\n      <td>0.3</td>\n      <td>0.75</td>\n      <td>2.50</td>\n      <td>0.18</td>\n      <td>2.8</td>\n    </tr>\n  </tbody>\n</table>\n</div>"
     },
     "metadata": {},
     "execution_count": 10
    }
   ],
   "source": [
    "model.associationInfo('confidence', .3)"
   ]
  },
  {
   "cell_type": "code",
   "execution_count": 12,
   "metadata": {},
   "outputs": [
    {
     "output_type": "execute_result",
     "data": {
      "text/plain": [
       "      antecedents     consequents  antecedent support  consequent support  \\\n",
       "0          (Corn)  (Kidney Beans)                 0.4                 0.5   \n",
       "1  (Kidney Beans)          (Corn)                 0.5                 0.4   \n",
       "2  (Kidney Beans)          (Milk)                 0.5                 0.4   \n",
       "3          (Milk)  (Kidney Beans)                 0.4                 0.5   \n",
       "4        (Nutmeg)         (Onion)                 0.3                 0.4   \n",
       "5         (Onion)        (Nutmeg)                 0.4                 0.3   \n",
       "\n",
       "   support  confidence  lift  leverage  conviction  \n",
       "0      0.3        0.75   1.5      0.10         2.0  \n",
       "1      0.3        0.60   1.5      0.10         1.5  \n",
       "2      0.3        0.60   1.5      0.10         1.5  \n",
       "3      0.3        0.75   1.5      0.10         2.0  \n",
       "4      0.3        1.00   2.5      0.18         inf  \n",
       "5      0.3        0.75   2.5      0.18         2.8  "
      ],
      "text/html": "<div>\n<style scoped>\n    .dataframe tbody tr th:only-of-type {\n        vertical-align: middle;\n    }\n\n    .dataframe tbody tr th {\n        vertical-align: top;\n    }\n\n    .dataframe thead th {\n        text-align: right;\n    }\n</style>\n<table border=\"1\" class=\"dataframe\">\n  <thead>\n    <tr style=\"text-align: right;\">\n      <th></th>\n      <th>antecedents</th>\n      <th>consequents</th>\n      <th>antecedent support</th>\n      <th>consequent support</th>\n      <th>support</th>\n      <th>confidence</th>\n      <th>lift</th>\n      <th>leverage</th>\n      <th>conviction</th>\n    </tr>\n  </thead>\n  <tbody>\n    <tr>\n      <th>0</th>\n      <td>(Corn)</td>\n      <td>(Kidney Beans)</td>\n      <td>0.4</td>\n      <td>0.5</td>\n      <td>0.3</td>\n      <td>0.75</td>\n      <td>1.5</td>\n      <td>0.10</td>\n      <td>2.0</td>\n    </tr>\n    <tr>\n      <th>1</th>\n      <td>(Kidney Beans)</td>\n      <td>(Corn)</td>\n      <td>0.5</td>\n      <td>0.4</td>\n      <td>0.3</td>\n      <td>0.60</td>\n      <td>1.5</td>\n      <td>0.10</td>\n      <td>1.5</td>\n    </tr>\n    <tr>\n      <th>2</th>\n      <td>(Kidney Beans)</td>\n      <td>(Milk)</td>\n      <td>0.5</td>\n      <td>0.4</td>\n      <td>0.3</td>\n      <td>0.60</td>\n      <td>1.5</td>\n      <td>0.10</td>\n      <td>1.5</td>\n    </tr>\n    <tr>\n      <th>3</th>\n      <td>(Milk)</td>\n      <td>(Kidney Beans)</td>\n      <td>0.4</td>\n      <td>0.5</td>\n      <td>0.3</td>\n      <td>0.75</td>\n      <td>1.5</td>\n      <td>0.10</td>\n      <td>2.0</td>\n    </tr>\n    <tr>\n      <th>4</th>\n      <td>(Nutmeg)</td>\n      <td>(Onion)</td>\n      <td>0.3</td>\n      <td>0.4</td>\n      <td>0.3</td>\n      <td>1.00</td>\n      <td>2.5</td>\n      <td>0.18</td>\n      <td>inf</td>\n    </tr>\n    <tr>\n      <th>5</th>\n      <td>(Onion)</td>\n      <td>(Nutmeg)</td>\n      <td>0.4</td>\n      <td>0.3</td>\n      <td>0.3</td>\n      <td>0.75</td>\n      <td>2.5</td>\n      <td>0.18</td>\n      <td>2.8</td>\n    </tr>\n  </tbody>\n</table>\n</div>"
     },
     "metadata": {},
     "execution_count": 12
    }
   ],
   "source": [
    "model.associationInfo('lift', 1.4)"
   ]
  },
  {
   "cell_type": "code",
   "execution_count": null,
   "metadata": {},
   "outputs": [],
   "source": []
  }
 ]
}
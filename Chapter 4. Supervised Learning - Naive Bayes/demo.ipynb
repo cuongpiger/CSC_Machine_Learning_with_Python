{
 "metadata": {
  "language_info": {
   "codemirror_mode": {
    "name": "ipython",
    "version": 3
   },
   "file_extension": ".py",
   "mimetype": "text/x-python",
   "name": "python",
   "nbconvert_exporter": "python",
   "pygments_lexer": "ipython3",
   "version": "3.8.5-final"
  },
  "orig_nbformat": 2,
  "kernelspec": {
   "name": "python3",
   "display_name": "Python 3.8.5 64-bit",
   "metadata": {
    "interpreter": {
     "hash": "31f2aee4e71d21fbe5cf8b01ff0e069b9275f58929596ceb00d14d90e3e16cd6"
    }
   }
  }
 },
 "nbformat": 4,
 "nbformat_minor": 2,
 "cells": [
  {
   "source": [
    "# 1. Giới thiệu\n",
    "* Thuật toán dựa trên định lý Bayes với các feature **độc lập với nhau**. Giả sử ta có 3 thông tin: tuổi, thâm niên, kinh nghiệm. Từ ba thông tin này để dự đoán ra loại nhân viên, lúc này ta sẽ xem xét xem liệu tuổi có ảnh hưởng đến loại ko, thâm niên có ảnh hưởng đến loại ko và kinh nghiệm có ảnh hưởng đến loại ko.\n",
    "* Mô hình này rất tốt để train cho các tập dữ liệu lớn.\n",
    "* Kết quả dự đoán cho ra rất tốt và dc sử dụng nhiều hơn các thuật toán khác vì tốc độ training model nhanh nhưng hiệu suất tổng quát kém hơn Logistic Regression hay LinearSVC.\n",
    "* Có ba loại phân phối sử dụng phổ biến của Naive Bayes là GaussianNB, Bernoulli NB và MultinomialNB, tùy theo đặc điểm của dữ liệu mà ta sẽ phải áp dụng phân phối phù hợp cho model.\n",
    "  * GaussianNB: mean = 0 và variance = 1, phân phối dạng hình chuông, đối xứng vs nhau qua mean, tại mean thì ba giá trị mean = median = mode. Áp dụng dc luôn cho bài toán liên tục hoặc phân loại. Sử dụng trên dữ liệu có nh chiều _(high-dimensional data)_.\n",
    "  * BernoulliNB: áp dụng cho dữ liệu phân loại dạng nhị phận, sử dụng rộng rãi cho dữ liệu đếm thưa thớt _(Sparse Count Data)_ _(ví dụ là văn bản, xem lại `CountVectorizer`)_.\n",
    "    Ví dụ ma trận thưa thớt trong văn bản:\n",
    "    ![](../images/29.png)\n",
    "\n",
    "  * MultinomialNB: áp dụng cho dữ liệu đếm _(nghĩa là mỗi đối tượng đại diện cho một số nguyên đếm của thứ gì đó, ví dụ tần suất một từ xuất hiện trong câu)_. Dc áp dụng rộng rãi cho Sparse Count Data.\n",
    "* Naive Bayes thường dc ưu tiên sử dụng đối vs các bài toán cần phân loại văn bản.\n",
    "* So sánh BernoulliNB và MultinomialNB:\n",
    "  * Cả hai đều dc chủ yếu sử dụng trong phân loại dữ liệu văn bản.\n",
    "  * MultiomialNB thường hoạt động tốt hơn so với BernoulliNB."
   ],
   "cell_type": "markdown",
   "metadata": {}
  },
  {
   "source": [
    "# 2. Ứng dụng\n",
    "* Realtime Prediction _(dự đoán thời gian thực)_.\n",
    "* Multiclass Prediction _(dự đoán đa lớp)_.\n",
    "* Text Classification _(phân loại văn bản)_/ Spam Filtering _(lọc thư rác)_/ Sentiment Analysis _(phân tích trạng thái - trong phân tích truyền thông xã hội, để xác định tình cảm khách hàng - tích cực và tiêu cực)_.\n",
    "* Recommendation System _(hệ thống đề xuất)_: Naive Bayes Classifier và Collabarative Filtering cùng nhau xậy dựng hệ thống đề xuất sử dụng kĩ thuật Machine Learning và khai thác dữ liệu để lọc thông tin ko xác định và dự đoán ng dùng có muốn một tài nguyên cụ thể hay ko."
   ],
   "cell_type": "markdown",
   "metadata": {}
  },
  {
   "source": [
    "# 3. Thuật toán\n",
    "* Định lí Bayes cung cấpmột cách tính xác suất như sau:\n",
    "  $$P(c|x) = \\dfrac{P(x|c)*P(c)}{P(x)}$$\n",
    "  $$P(c|X) = P(x_1|c)*P(x_2|c)*...*P(x_n|c)*P(c)$$\n",
    "  Trong đó:\n",
    "    * $P(c|x)$: xác suất xảy ra của một biến cố ngẫu nhiên - $c$ khi biết biến cố liên quan - $x$ xảy ra.\n",
    "    * $P(x|c)$: xác suất xảy ra - $x$ khi biết $c$ xảy ra.\n",
    "    * $P(c)$: xác suất xảy ra của riêng $c$ mà ko quan tâm tới $x$.\n",
    "    * $P(x))$: xác suất xảy ra của riêng $x$ mà ko quan tâm tới $c$.\n",
    "* Phân loại Naive Bayes giả định rằng tác động của giá trị của một yếu tố dự báo - predictor - $x$ trên một lớp nhất định - $c$ là độc lập vs các giá trị của các yếu tố dự báo khác. Giả định này dc gọi là lớp độc lập có điều kiện."
   ],
   "cell_type": "markdown",
   "metadata": {}
  },
  {
   "source": [
    "## 3.1. Ví dụ: Car Theft _(trộm cắp xe)_\n",
    "* Xác định xe có bị ăn trộm hay ko.\n",
    "* Các attribute: `Color` _(màu)_, `Type` _(loại xe)_, `Origin` _(nguồn gốc xuất xứ)_ và biến dự đoán `Stolen` _(có bị cắp hay ko)_.\n",
    "* Dataset:<br>\n",
    "  ![](../images/30.png)"
   ],
   "cell_type": "markdown",
   "metadata": {}
  },
  {
   "source": [
    "# 4. Ưu điểm\n",
    "* Tính toán nhanh chóng.\n",
    "* Dễ triển khai.\n",
    "* Hoạt động tốt vs bộ dữ liệu nhiều hoặc nhỏ, nhiều chiều.\n",
    "* Hoạt động ngay cả khi phân phối ko chuẩn cho lắm."
   ],
   "cell_type": "markdown",
   "metadata": {}
  },
  {
   "source": [
    "# 5. Khuyết điểm\n",
    "* Có thể có các biến đầu vào tương quan vs nhau (đa cộng tuyến), và khi 2 feature này dc chọn để build model thì có thể dẫn đến việc vượt quá tầm quan trọng.\n",
    "* Nếu có một loại trong data train nhưng lại có trong test data thì nó sẽ ko dự doán dc, điều này thường dc gọi là tần số ko $\\Rightarrow$ để giải quyết có thể sử dụng kĩ thuật làm mịn, một kĩ thuật phổ biến là Laplace.\n",
    "* Có thể có feature liên tục mà ko có phân phối chuẩn, thì trong tình huống này ta nên biến đổi nó bằng các phương pháp khác nhau hoặc biến biến liên tục thành biến phân loại."
   ],
   "cell_type": "markdown",
   "metadata": {}
  },
  {
   "source": [
    "# 6. Các bước thực hiện\n",
    "* Chọn model áp dụng là Naive Bayes\n",
    "* Áp dụng model phù hợp là GaussianNB, BernoulliNB hay MultinomialNB\n",
    "* Tách dữ liệu thành traing data và test data.\n",
    "* Huấn luyện model với training data.\n",
    "* Sử dụng model để dự đoán test data hoặc vs dữ liệu mới.\n",
    "* Đánh giá độ chính xác."
   ],
   "cell_type": "markdown",
   "metadata": {}
  },
  {
   "source": [
    "# 7. Demo vs python"
   ],
   "cell_type": "markdown",
   "metadata": {}
  },
  {
   "source": [
    "import numpy as np\n",
    "import pandas as pd\n",
    "from modules.preprocessing import CPreprocessing"
   ],
   "cell_type": "code",
   "metadata": {},
   "execution_count": 1,
   "outputs": []
  },
  {
   "source": [
    "Đọc dữ liệu và chuẩn bị dữ liệu"
   ],
   "cell_type": "markdown",
   "metadata": {}
  },
  {
   "cell_type": "code",
   "execution_count": 2,
   "metadata": {},
   "outputs": [],
   "source": [
    "X = np.array([\n",
    "    ['Red', 'Sports', 'Domestic'],\n",
    "    ['Red', 'Sports', 'Domestic'],\n",
    "    ['Red', 'Sports', 'Domestic'],\n",
    "    ['Yellow', 'Sports', 'Domestic'],\n",
    "    ['Yellow', 'Sports', 'Imported'],\n",
    "    ['Yellow', 'SUV', 'Imported'],\n",
    "    ['Yellow', 'SUV', 'Imported'],\n",
    "    ['Yellow', 'SUV', 'Domestic'],\n",
    "    ['Red', 'SUV', 'Imported'],\n",
    "    ['Red', 'Sports', 'Imported'],\n",
    "])\n",
    "\n",
    "y = np.array(['Yes', 'No', 'Yes', 'No', 'Yes', 'No', 'Yes', 'No', 'No', 'Yes'])"
   ]
  },
  {
   "cell_type": "code",
   "execution_count": 3,
   "metadata": {},
   "outputs": [
    {
     "output_type": "execute_result",
     "data": {
      "text/plain": [
       "   color_Red  color_Yellow  type_SUV  type_Sports  origin_Domestic  \\\n",
       "0          1             0         0            1                1   \n",
       "1          1             0         0            1                1   \n",
       "2          1             0         0            1                1   \n",
       "3          0             1         0            1                1   \n",
       "4          0             1         0            1                0   \n",
       "5          0             1         1            0                0   \n",
       "6          0             1         1            0                0   \n",
       "7          0             1         1            0                1   \n",
       "8          1             0         1            0                0   \n",
       "9          1             0         0            1                0   \n",
       "\n",
       "   origin_Imported  \n",
       "0                0  \n",
       "1                0  \n",
       "2                0  \n",
       "3                0  \n",
       "4                1  \n",
       "5                1  \n",
       "6                1  \n",
       "7                0  \n",
       "8                1  \n",
       "9                1  "
      ],
      "text/html": "<div>\n<style scoped>\n    .dataframe tbody tr th:only-of-type {\n        vertical-align: middle;\n    }\n\n    .dataframe tbody tr th {\n        vertical-align: top;\n    }\n\n    .dataframe thead th {\n        text-align: right;\n    }\n</style>\n<table border=\"1\" class=\"dataframe\">\n  <thead>\n    <tr style=\"text-align: right;\">\n      <th></th>\n      <th>color_Red</th>\n      <th>color_Yellow</th>\n      <th>type_SUV</th>\n      <th>type_Sports</th>\n      <th>origin_Domestic</th>\n      <th>origin_Imported</th>\n    </tr>\n  </thead>\n  <tbody>\n    <tr>\n      <th>0</th>\n      <td>1</td>\n      <td>0</td>\n      <td>0</td>\n      <td>1</td>\n      <td>1</td>\n      <td>0</td>\n    </tr>\n    <tr>\n      <th>1</th>\n      <td>1</td>\n      <td>0</td>\n      <td>0</td>\n      <td>1</td>\n      <td>1</td>\n      <td>0</td>\n    </tr>\n    <tr>\n      <th>2</th>\n      <td>1</td>\n      <td>0</td>\n      <td>0</td>\n      <td>1</td>\n      <td>1</td>\n      <td>0</td>\n    </tr>\n    <tr>\n      <th>3</th>\n      <td>0</td>\n      <td>1</td>\n      <td>0</td>\n      <td>1</td>\n      <td>1</td>\n      <td>0</td>\n    </tr>\n    <tr>\n      <th>4</th>\n      <td>0</td>\n      <td>1</td>\n      <td>0</td>\n      <td>1</td>\n      <td>0</td>\n      <td>1</td>\n    </tr>\n    <tr>\n      <th>5</th>\n      <td>0</td>\n      <td>1</td>\n      <td>1</td>\n      <td>0</td>\n      <td>0</td>\n      <td>1</td>\n    </tr>\n    <tr>\n      <th>6</th>\n      <td>0</td>\n      <td>1</td>\n      <td>1</td>\n      <td>0</td>\n      <td>0</td>\n      <td>1</td>\n    </tr>\n    <tr>\n      <th>7</th>\n      <td>0</td>\n      <td>1</td>\n      <td>1</td>\n      <td>0</td>\n      <td>1</td>\n      <td>0</td>\n    </tr>\n    <tr>\n      <th>8</th>\n      <td>1</td>\n      <td>0</td>\n      <td>1</td>\n      <td>0</td>\n      <td>0</td>\n      <td>1</td>\n    </tr>\n    <tr>\n      <th>9</th>\n      <td>1</td>\n      <td>0</td>\n      <td>0</td>\n      <td>1</td>\n      <td>0</td>\n      <td>1</td>\n    </tr>\n  </tbody>\n</table>\n</div>"
     },
     "metadata": {},
     "execution_count": 3
    }
   ],
   "source": [
    "X = pd.DataFrame(X, columns=['color', 'type', 'origin'])\n",
    "X_now = CPreprocessing(X).encoding('dummy')\n",
    "\n",
    "X_now"
   ]
  },
  {
   "cell_type": "code",
   "execution_count": 4,
   "metadata": {},
   "outputs": [
    {
     "output_type": "execute_result",
     "data": {
      "text/plain": [
       "   stolen_Yes\n",
       "0           1\n",
       "1           0\n",
       "2           1\n",
       "3           0\n",
       "4           1\n",
       "5           0\n",
       "6           1\n",
       "7           0\n",
       "8           0\n",
       "9           1"
      ],
      "text/html": "<div>\n<style scoped>\n    .dataframe tbody tr th:only-of-type {\n        vertical-align: middle;\n    }\n\n    .dataframe tbody tr th {\n        vertical-align: top;\n    }\n\n    .dataframe thead th {\n        text-align: right;\n    }\n</style>\n<table border=\"1\" class=\"dataframe\">\n  <thead>\n    <tr style=\"text-align: right;\">\n      <th></th>\n      <th>stolen_Yes</th>\n    </tr>\n  </thead>\n  <tbody>\n    <tr>\n      <th>0</th>\n      <td>1</td>\n    </tr>\n    <tr>\n      <th>1</th>\n      <td>0</td>\n    </tr>\n    <tr>\n      <th>2</th>\n      <td>1</td>\n    </tr>\n    <tr>\n      <th>3</th>\n      <td>0</td>\n    </tr>\n    <tr>\n      <th>4</th>\n      <td>1</td>\n    </tr>\n    <tr>\n      <th>5</th>\n      <td>0</td>\n    </tr>\n    <tr>\n      <th>6</th>\n      <td>1</td>\n    </tr>\n    <tr>\n      <th>7</th>\n      <td>0</td>\n    </tr>\n    <tr>\n      <th>8</th>\n      <td>0</td>\n    </tr>\n    <tr>\n      <th>9</th>\n      <td>1</td>\n    </tr>\n  </tbody>\n</table>\n</div>"
     },
     "metadata": {},
     "execution_count": 4
    }
   ],
   "source": [
    "y = pd.DataFrame(y, columns=['stolen'])\n",
    "y_now = CPreprocessing(y).encoding('dummy', drop_first=True)\n",
    "\n",
    "y_now"
   ]
  },
  {
   "source": [
    "Train model vs `BernoulliNB`"
   ],
   "cell_type": "markdown",
   "metadata": {}
  },
  {
   "cell_type": "code",
   "execution_count": 5,
   "metadata": {},
   "outputs": [],
   "source": [
    "from modules.naive_bayes import CNaiveBayes"
   ]
  },
  {
   "cell_type": "code",
   "execution_count": 6,
   "metadata": {},
   "outputs": [
    {
     "output_type": "stream",
     "name": "stderr",
     "text": [
      "/home/manhcuong/.local/lib/python3.8/site-packages/sklearn/utils/validation.py:63: DataConversionWarning: A column-vector y was passed when a 1d array was expected. Please change the shape of y to (n_samples, ), for example using ravel().\n  return f(*args, **kwargs)\n"
     ]
    }
   ],
   "source": [
    "model = CNaiveBayes(X_now, y_now)\n",
    "model.initModel('bernoulli')"
   ]
  },
  {
   "source": [
    "Tiến hành dự đoán vs data mẫu"
   ],
   "cell_type": "markdown",
   "metadata": {}
  },
  {
   "cell_type": "code",
   "execution_count": 7,
   "metadata": {},
   "outputs": [],
   "source": [
    "X_new = [[1, 0, 1, 0, 1, 0]] # red, suv, domestic"
   ]
  },
  {
   "cell_type": "code",
   "execution_count": 8,
   "metadata": {},
   "outputs": [
    {
     "output_type": "execute_result",
     "data": {
      "text/plain": [
       "array([0], dtype=uint8)"
      ]
     },
     "metadata": {},
     "execution_count": 8
    }
   ],
   "source": [
    "predicted = model.predict(X_new)\n",
    "\n",
    "predicted"
   ]
  },
  {
   "source": [
    "> **Nhận xét**\n",
    "> * Vs tập dữ liệu `red, suv, domestic` thì chiếc xe này sẽ ko bị ăn trộm"
   ],
   "cell_type": "markdown",
   "metadata": {}
  },
  {
   "source": [
    "Train model với `GaussianNB`"
   ],
   "cell_type": "markdown",
   "metadata": {}
  },
  {
   "cell_type": "code",
   "execution_count": 9,
   "metadata": {},
   "outputs": [
    {
     "output_type": "stream",
     "name": "stderr",
     "text": [
      "/home/manhcuong/.local/lib/python3.8/site-packages/sklearn/utils/validation.py:63: DataConversionWarning: A column-vector y was passed when a 1d array was expected. Please change the shape of y to (n_samples, ), for example using ravel().\n  return f(*args, **kwargs)\n"
     ]
    }
   ],
   "source": [
    "model = CNaiveBayes(X_now, y_now)\n",
    "model.initModel('gaussian')"
   ]
  },
  {
   "cell_type": "code",
   "execution_count": 10,
   "metadata": {},
   "outputs": [],
   "source": [
    "X_new = [[1, 0, 1, 0, 1, 0]] # red, suv, domestic"
   ]
  },
  {
   "source": [
    "predicted = model.predict(X_new)\n",
    "\n",
    "predicted"
   ],
   "cell_type": "markdown",
   "metadata": {}
  },
  {
   "source": [
    "> **Nhận xét**\n",
    "> * Vậy với Gaussian thì xe cũng sẽ ko bị ăn cắp."
   ],
   "cell_type": "markdown",
   "metadata": {}
  },
  {
   "source": [
    "Ví dụ cho MultinomialNB"
   ],
   "cell_type": "markdown",
   "metadata": {}
  },
  {
   "cell_type": "code",
   "execution_count": 11,
   "metadata": {},
   "outputs": [],
   "source": [
    "from modules.text_transform import CTextHandler"
   ]
  },
  {
   "cell_type": "code",
   "execution_count": 12,
   "metadata": {},
   "outputs": [],
   "source": [
    "text_data = np.array([\n",
    "    'I love Vietnam. Vietnam!',\n",
    "    'Vietnam is best',\n",
    "    'Hochiminh is the biggest city of Vietnam'\n",
    "])"
   ]
  },
  {
   "cell_type": "code",
   "execution_count": 13,
   "metadata": {},
   "outputs": [],
   "source": [
    "y = np.array([0, 0, 1])"
   ]
  },
  {
   "cell_type": "code",
   "execution_count": 14,
   "metadata": {},
   "outputs": [],
   "source": [
    "text_handler = CTextHandler(text_data)"
   ]
  },
  {
   "cell_type": "code",
   "execution_count": 15,
   "metadata": {},
   "outputs": [],
   "source": [
    "X = text_handler.createBagOfWords()"
   ]
  },
  {
   "cell_type": "code",
   "execution_count": 16,
   "metadata": {},
   "outputs": [
    {
     "output_type": "execute_result",
     "data": {
      "text/plain": [
       "array([[0, 0, 0, 0, 0, 1, 0, 0, 2],\n",
       "       [1, 0, 0, 0, 1, 0, 0, 0, 1],\n",
       "       [0, 1, 1, 1, 1, 0, 1, 1, 1]])"
      ]
     },
     "metadata": {},
     "execution_count": 16
    }
   ],
   "source": [
    "X"
   ]
  },
  {
   "cell_type": "code",
   "execution_count": 17,
   "metadata": {},
   "outputs": [
    {
     "output_type": "execute_result",
     "data": {
      "text/plain": [
       "array([0, 0, 1])"
      ]
     },
     "metadata": {},
     "execution_count": 17
    }
   ],
   "source": [
    "y"
   ]
  },
  {
   "source": [
    "Huấn luyện model"
   ],
   "cell_type": "markdown",
   "metadata": {}
  },
  {
   "cell_type": "code",
   "execution_count": 18,
   "metadata": {},
   "outputs": [],
   "source": [
    "model = CNaiveBayes(X, y)\n",
    "model.initModel('multinomial')"
   ]
  },
  {
   "source": [
    "Kiểm tra độ chính xác của model"
   ],
   "cell_type": "markdown",
   "metadata": {}
  },
  {
   "cell_type": "code",
   "execution_count": 19,
   "metadata": {},
   "outputs": [
    {
     "output_type": "execute_result",
     "data": {
      "text/plain": [
       "100.0"
      ]
     },
     "metadata": {},
     "execution_count": 19
    }
   ],
   "source": [
    "model.model.score(X, y)*100.0"
   ]
  },
  {
   "source": [
    "> **Nhận xét**\n",
    "> * Có 3 mẫu thôi nên 100% là đúng r ^^"
   ],
   "cell_type": "markdown",
   "metadata": {}
  },
  {
   "source": [
    "Dự đoán vs model"
   ],
   "cell_type": "markdown",
   "metadata": {}
  },
  {
   "cell_type": "code",
   "execution_count": 20,
   "metadata": {},
   "outputs": [],
   "source": [
    "test_data = np.array([\n",
    "    'Vietnam is beautiful country',\n",
    "    'I live in Hochiminh City'\n",
    "])\n",
    "\n",
    "X_test = text_handler.transform(test_data)"
   ]
  },
  {
   "cell_type": "code",
   "execution_count": 21,
   "metadata": {},
   "outputs": [
    {
     "output_type": "execute_result",
     "data": {
      "text/plain": [
       "array([[0, 0, 0, 0, 1, 0, 0, 0, 1],\n",
       "       [0, 0, 1, 1, 0, 0, 0, 0, 0]])"
      ]
     },
     "metadata": {},
     "execution_count": 21
    }
   ],
   "source": [
    "X_test"
   ]
  },
  {
   "cell_type": "code",
   "execution_count": 22,
   "metadata": {},
   "outputs": [
    {
     "output_type": "execute_result",
     "data": {
      "text/plain": [
       "array([0, 1])"
      ]
     },
     "metadata": {},
     "execution_count": 22
    }
   ],
   "source": [
    "y_pred = model.predict(X_test)\n",
    "\n",
    "y_pred"
   ]
  },
  {
   "source": [
    "> **Nhận xét**\n",
    "> * Mẫu đầu thiên thuộc class 0 và mẫu thứ hai thuộc class 1"
   ],
   "cell_type": "markdown",
   "metadata": {}
  },
  {
   "source": [
    "Lưu model và file bag_of_word bằng `pickle`"
   ],
   "cell_type": "markdown",
   "metadata": {}
  },
  {
   "cell_type": "code",
   "execution_count": 23,
   "metadata": {},
   "outputs": [],
   "source": [
    "from modules.file import CPickleFile"
   ]
  },
  {
   "source": [
    "Lưu model"
   ],
   "cell_type": "markdown",
   "metadata": {}
  },
  {
   "cell_type": "code",
   "execution_count": 24,
   "metadata": {},
   "outputs": [
    {
     "output_type": "stream",
     "name": "stdout",
     "text": [
      "Success!\n"
     ]
    }
   ],
   "source": [
    "CPickleFile().write(r'./from_class/model.pkl', model)"
   ]
  },
  {
   "source": [
    "Lưu file bag of words"
   ],
   "cell_type": "markdown",
   "metadata": {}
  },
  {
   "cell_type": "code",
   "execution_count": 25,
   "metadata": {},
   "outputs": [
    {
     "output_type": "stream",
     "name": "stdout",
     "text": [
      "Success!\n"
     ]
    }
   ],
   "source": [
    "CPickleFile().write(r'./from_class/bag_of_words.pkl', text_handler)"
   ]
  },
  {
   "source": [
    "Load model và bag of words từ `pickle` file"
   ],
   "cell_type": "markdown",
   "metadata": {}
  },
  {
   "cell_type": "code",
   "execution_count": 26,
   "metadata": {},
   "outputs": [
    {
     "output_type": "stream",
     "name": "stdout",
     "text": [
      "Success!\nSuccess!\n"
     ]
    }
   ],
   "source": [
    "model_load = CPickleFile().read(r'./from_class/model.pkl')\n",
    "text_handler_load = CPickleFile().read(r'./from_class/bag_of_words.pkl')"
   ]
  },
  {
   "source": [
    "Test thử coi sài dc ko"
   ],
   "cell_type": "markdown",
   "metadata": {}
  },
  {
   "cell_type": "code",
   "execution_count": 27,
   "metadata": {},
   "outputs": [
    {
     "output_type": "execute_result",
     "data": {
      "text/plain": [
       "array([[0, 0, 0, 0, 0, 0, 0, 0, 1],\n",
       "       [0, 0, 1, 1, 0, 0, 0, 0, 0]])"
      ]
     },
     "metadata": {},
     "execution_count": 27
    }
   ],
   "source": [
    "test_new = np.array([\n",
    "    'Welcome to Vietnam',\n",
    "    'Welcome to Hochiminh City'\n",
    "])\n",
    "\n",
    "X_test_new = text_handler_load.transform(test_new)\n",
    "\n",
    "X_test_new"
   ]
  },
  {
   "cell_type": "code",
   "execution_count": 28,
   "metadata": {},
   "outputs": [
    {
     "output_type": "execute_result",
     "data": {
      "text/plain": [
       "array([0, 1])"
      ]
     },
     "metadata": {},
     "execution_count": 28
    }
   ],
   "source": [
    "model.predict(X_test_new)"
   ]
  },
  {
   "source": [
    "> **Nhận xét**\n",
    "> * OKLA, chạy ổn"
   ],
   "cell_type": "markdown",
   "metadata": {}
  },
  {
   "cell_type": "code",
   "execution_count": null,
   "metadata": {},
   "outputs": [],
   "source": []
  }
 ]
}
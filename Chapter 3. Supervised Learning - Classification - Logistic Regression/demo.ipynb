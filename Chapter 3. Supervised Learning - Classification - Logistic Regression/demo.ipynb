{
 "metadata": {
  "language_info": {
   "codemirror_mode": {
    "name": "ipython",
    "version": 3
   },
   "file_extension": ".py",
   "mimetype": "text/x-python",
   "name": "python",
   "nbconvert_exporter": "python",
   "pygments_lexer": "ipython3",
   "version": 3
  },
  "orig_nbformat": 2
 },
 "nbformat": 4,
 "nbformat_minor": 2,
 "cells": [
  {
   "source": [
    "# 1. Bài toán phân loại _(Classification)_"
   ],
   "cell_type": "markdown",
   "metadata": {}
  },
  {
   "source": [
    "![](../images/21.png)\n",
    "\n",
    "* Mục tiêu: dự đoán target variable _(category)_ từ input variables."
   ],
   "cell_type": "markdown",
   "metadata": {}
  },
  {
   "source": [
    "## 1.1. Dữ liệu dành cho bài toán Classification\n",
    "![](../images/22.png)\n",
    "* Input thì có thể là biến phân loại hoặc liên tục.\n",
    "* Output phải là biến phân loại."
   ],
   "cell_type": "markdown",
   "metadata": {}
  },
  {
   "source": [
    "## 1.2. Các dạng của bài toán phân loại\n",
    "* Gồm hai dạng:\n",
    "  * Binary classification:<br>\n",
    "    ![](../images/23.png)\n",
    "  * Multi-class claasification:<br>\n",
    "    ![](../images/24.png)"
   ],
   "cell_type": "markdown",
   "metadata": {}
  },
  {
   "source": [
    "## 1.3. Formula - Model\n",
    "![](../images/25.png)"
   ],
   "cell_type": "markdown",
   "metadata": {}
  },
  {
   "source": [
    "## 1.4. Một số thuật toán áp dụng cho Classification\n",
    "* Logistic Rergression\n",
    "* Decision Tree\n",
    "* Support Vector Machine\n",
    "* K-Nearest Neighbours\n",
    "* Naive Bayes\n",
    "* ..."
   ],
   "cell_type": "markdown",
   "metadata": {}
  },
  {
   "source": [
    "# 2. Logistic Regression _(Logit Regression)_\n",
    "* Là một thuật toán dùng để áp dụng cho bài toán phân loại.\n",
    "* Nó hoạt động bằng cách ước tính xác suất của một mẫu có thuộc về một lớp cụ thể hay ko (ví dụ: xác suất để email này là spam hay ko,...).\n",
    "* Nếu xác suất của mẫu ước tính lớn hơn 50% thì mẫu này thuộc về lớp đó _(được gọi là lớp **positive**, nhãn là \"1\")_, hoặc ngược lại dự đoán rằng nó ko thuộc về lớp đó _(được gọi là lớp **negative**, nhãn là \"0\")_ $\\Rightarrow$ tạo ra một phân loại nhị phân binary classifier.\n",
    "  * Binary classifier _(phân loại nhị phân)_: outcome chỉ có 1 hoặc 0."
   ],
   "cell_type": "markdown",
   "metadata": {}
  },
  {
   "source": [
    "## 2.1. Ứng dụng\n",
    "* Marketing: dự đoán liệu khách hàng cụ thể có mua sản phẩm bảo hiểm hay ko?\n",
    "* Kinh doanh: dự đoán liệu khách hàng có ngưng sử dụng sản phẩm/dịch vụ?\n",
    "* Ngân hàng: dự đoán liệu khách hàng sẽ mặc định cho một khoảng vay hay ko?"
   ],
   "cell_type": "markdown",
   "metadata": {}
  },
  {
   "source": [
    "## 2.2. Tại sao ko áp dụng Linear Regression cho bài toán chỉ có hai outcome?\n",
    "* Khi response variable chỉ có hai giá trị cụ thể, thì ta mong muốn có một mô hình dự đoán ra giá trị là 0 hoặc là 1, hoặc là một điểm xác suất nằm trong khoảng từ 0 đến 1 $\\Rightarrow$ Linear Regression ko làm dc điều này, vì  linear regression đưa ra giá trị ko hề có cận trên hoặc cận dưới, có thể là giá trị âm, hoặc dương,..., tức giá trị dự đoán có thể nằm ngoài ngưỡng 0 và 1.\n",
    "![](../images/26.png)"
   ],
   "cell_type": "markdown",
   "metadata": {}
  },
  {
   "cell_type": "code",
   "execution_count": null,
   "metadata": {},
   "outputs": [],
   "source": []
  }
 ]
}
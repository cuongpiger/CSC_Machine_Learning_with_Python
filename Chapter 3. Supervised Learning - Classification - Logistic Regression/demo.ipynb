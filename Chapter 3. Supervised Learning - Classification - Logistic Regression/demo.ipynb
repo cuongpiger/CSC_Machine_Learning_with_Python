{
 "metadata": {
  "language_info": {
   "codemirror_mode": {
    "name": "ipython",
    "version": 3
   },
   "file_extension": ".py",
   "mimetype": "text/x-python",
   "name": "python",
   "nbconvert_exporter": "python",
   "pygments_lexer": "ipython3",
   "version": 3
  },
  "orig_nbformat": 2
 },
 "nbformat": 4,
 "nbformat_minor": 2,
 "cells": [
  {
   "source": [
    "# 1. Bài toán phân loại _(Classification)_"
   ],
   "cell_type": "markdown",
   "metadata": {}
  },
  {
   "source": [
    "![](../images/21.png)\n",
    "\n",
    "* Mục tiêu: dự đoán target variable _(category)_ từ input variables."
   ],
   "cell_type": "markdown",
   "metadata": {}
  },
  {
   "source": [
    "## 1.1. Dữ liệu dành cho bài toán Classification\n",
    "![](../images/22.png)\n",
    "* Input thì có thể là biến phân loại hoặc liên tục.\n",
    "* Output phải là biến phân loại."
   ],
   "cell_type": "markdown",
   "metadata": {}
  },
  {
   "source": [
    "## 1.2. Các dạng của bài toán phân loại\n",
    "* Gồm hai dạng:\n",
    "  * Binary classification:<br>\n",
    "    ![](../images/23.png)\n",
    "  * Multi-class claasification:<br>\n",
    "    ![](../images/24.png)"
   ],
   "cell_type": "markdown",
   "metadata": {}
  },
  {
   "source": [
    "## 1.3. Formula - Model\n",
    "![](../images/25.png)"
   ],
   "cell_type": "markdown",
   "metadata": {}
  },
  {
   "cell_type": "code",
   "execution_count": null,
   "metadata": {},
   "outputs": [],
   "source": []
  }
 ]
}
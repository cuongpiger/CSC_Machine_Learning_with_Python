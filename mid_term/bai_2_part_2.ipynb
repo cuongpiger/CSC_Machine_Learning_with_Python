{
 "metadata": {
  "language_info": {
   "codemirror_mode": {
    "name": "ipython",
    "version": 3
   },
   "file_extension": ".py",
   "mimetype": "text/x-python",
   "name": "python",
   "nbconvert_exporter": "python",
   "pygments_lexer": "ipython3",
   "version": "3.7.9-final"
  },
  "orig_nbformat": 2,
  "kernelspec": {
   "name": "python3",
   "display_name": "Python 3",
   "language": "python"
  }
 },
 "nbformat": 4,
 "nbformat_minor": 2,
 "cells": [
  {
   "source": [
    "# Build Model"
   ],
   "cell_type": "markdown",
   "metadata": {}
  },
  {
   "cell_type": "code",
   "execution_count": 1,
   "metadata": {},
   "outputs": [],
   "source": [
    "%load_ext autoreload\n",
    "%autoreload 2\n",
    "\n",
    "from modules.file import CPandasFile\n",
    "from modules.svm import CSupportVectorMachine\n",
    "import pandas as pd"
   ]
  },
  {
   "cell_type": "code",
   "execution_count": 2,
   "metadata": {},
   "outputs": [
    {
     "output_type": "execute_result",
     "data": {
      "text/plain": [
       "     Unnamed: 0  num  thal  ca  restecg  fbs  exang  age  trestbps  chol\n",
       "0             0    0     6   0        2    1      0   63       145   233\n",
       "1             1    2     3   3        2    0      1   67       160   286\n",
       "2             2    1     7   2        2    0      1   67       120   229\n",
       "3             3    0     3   0        0    0      0   37       130   250\n",
       "4             4    0     3   0        2    0      0   41       130   204\n",
       "..          ...  ...   ...  ..      ...  ...    ...  ...       ...   ...\n",
       "285         297    1     7   0        0    0      1   57       140   241\n",
       "286         298    1     7   0        0    0      0   45       110   264\n",
       "287         299    2     7   2        0    1      0   68       144   193\n",
       "288         300    3     7   1        0    0      1   57       130   131\n",
       "289         301    1     3   1        2    0      0   57       130   236\n",
       "\n",
       "[290 rows x 10 columns]"
      ],
      "text/html": "<div>\n<style scoped>\n    .dataframe tbody tr th:only-of-type {\n        vertical-align: middle;\n    }\n\n    .dataframe tbody tr th {\n        vertical-align: top;\n    }\n\n    .dataframe thead th {\n        text-align: right;\n    }\n</style>\n<table border=\"1\" class=\"dataframe\">\n  <thead>\n    <tr style=\"text-align: right;\">\n      <th></th>\n      <th>Unnamed: 0</th>\n      <th>num</th>\n      <th>thal</th>\n      <th>ca</th>\n      <th>restecg</th>\n      <th>fbs</th>\n      <th>exang</th>\n      <th>age</th>\n      <th>trestbps</th>\n      <th>chol</th>\n    </tr>\n  </thead>\n  <tbody>\n    <tr>\n      <th>0</th>\n      <td>0</td>\n      <td>0</td>\n      <td>6</td>\n      <td>0</td>\n      <td>2</td>\n      <td>1</td>\n      <td>0</td>\n      <td>63</td>\n      <td>145</td>\n      <td>233</td>\n    </tr>\n    <tr>\n      <th>1</th>\n      <td>1</td>\n      <td>2</td>\n      <td>3</td>\n      <td>3</td>\n      <td>2</td>\n      <td>0</td>\n      <td>1</td>\n      <td>67</td>\n      <td>160</td>\n      <td>286</td>\n    </tr>\n    <tr>\n      <th>2</th>\n      <td>2</td>\n      <td>1</td>\n      <td>7</td>\n      <td>2</td>\n      <td>2</td>\n      <td>0</td>\n      <td>1</td>\n      <td>67</td>\n      <td>120</td>\n      <td>229</td>\n    </tr>\n    <tr>\n      <th>3</th>\n      <td>3</td>\n      <td>0</td>\n      <td>3</td>\n      <td>0</td>\n      <td>0</td>\n      <td>0</td>\n      <td>0</td>\n      <td>37</td>\n      <td>130</td>\n      <td>250</td>\n    </tr>\n    <tr>\n      <th>4</th>\n      <td>4</td>\n      <td>0</td>\n      <td>3</td>\n      <td>0</td>\n      <td>2</td>\n      <td>0</td>\n      <td>0</td>\n      <td>41</td>\n      <td>130</td>\n      <td>204</td>\n    </tr>\n    <tr>\n      <th>...</th>\n      <td>...</td>\n      <td>...</td>\n      <td>...</td>\n      <td>...</td>\n      <td>...</td>\n      <td>...</td>\n      <td>...</td>\n      <td>...</td>\n      <td>...</td>\n      <td>...</td>\n    </tr>\n    <tr>\n      <th>285</th>\n      <td>297</td>\n      <td>1</td>\n      <td>7</td>\n      <td>0</td>\n      <td>0</td>\n      <td>0</td>\n      <td>1</td>\n      <td>57</td>\n      <td>140</td>\n      <td>241</td>\n    </tr>\n    <tr>\n      <th>286</th>\n      <td>298</td>\n      <td>1</td>\n      <td>7</td>\n      <td>0</td>\n      <td>0</td>\n      <td>0</td>\n      <td>0</td>\n      <td>45</td>\n      <td>110</td>\n      <td>264</td>\n    </tr>\n    <tr>\n      <th>287</th>\n      <td>299</td>\n      <td>2</td>\n      <td>7</td>\n      <td>2</td>\n      <td>0</td>\n      <td>1</td>\n      <td>0</td>\n      <td>68</td>\n      <td>144</td>\n      <td>193</td>\n    </tr>\n    <tr>\n      <th>288</th>\n      <td>300</td>\n      <td>3</td>\n      <td>7</td>\n      <td>1</td>\n      <td>0</td>\n      <td>0</td>\n      <td>1</td>\n      <td>57</td>\n      <td>130</td>\n      <td>131</td>\n    </tr>\n    <tr>\n      <th>289</th>\n      <td>301</td>\n      <td>1</td>\n      <td>3</td>\n      <td>1</td>\n      <td>2</td>\n      <td>0</td>\n      <td>0</td>\n      <td>57</td>\n      <td>130</td>\n      <td>236</td>\n    </tr>\n  </tbody>\n</table>\n<p>290 rows × 10 columns</p>\n</div>"
     },
     "metadata": {},
     "execution_count": 2
    }
   ],
   "source": [
    "cholesterol_raw = CPandasFile().readCsv(r'./data/cholesterol.csv')\n",
    "\n",
    "cholesterol_raw"
   ]
  },
  {
   "cell_type": "code",
   "execution_count": 3,
   "metadata": {},
   "outputs": [
    {
     "output_type": "execute_result",
     "data": {
      "text/plain": [
       "(     Unnamed: 0  num  thal  ca  restecg  fbs  exang  age  trestbps\n",
       " 0             0    0     6   0        2    1      0   63       145\n",
       " 1             1    2     3   3        2    0      1   67       160\n",
       " 2             2    1     7   2        2    0      1   67       120\n",
       " 3             3    0     3   0        0    0      0   37       130\n",
       " 4             4    0     3   0        2    0      0   41       130\n",
       " ..          ...  ...   ...  ..      ...  ...    ...  ...       ...\n",
       " 285         297    1     7   0        0    0      1   57       140\n",
       " 286         298    1     7   0        0    0      0   45       110\n",
       " 287         299    2     7   2        0    1      0   68       144\n",
       " 288         300    3     7   1        0    0      1   57       130\n",
       " 289         301    1     3   1        2    0      0   57       130\n",
       " \n",
       " [290 rows x 9 columns],\n",
       " 0      233\n",
       " 1      286\n",
       " 2      229\n",
       " 3      250\n",
       " 4      204\n",
       "       ... \n",
       " 285    241\n",
       " 286    264\n",
       " 287    193\n",
       " 288    131\n",
       " 289    236\n",
       " Name: chol, Length: 290, dtype: int64)"
      ]
     },
     "metadata": {},
     "execution_count": 3
    }
   ],
   "source": [
    "X = cholesterol_raw.drop(columns=['chol'])\n",
    "y = cholesterol_raw['chol']\n",
    "\n",
    "X, y"
   ]
  },
  {
   "cell_type": "code",
   "execution_count": 4,
   "metadata": {},
   "outputs": [
    {
     "output_type": "execute_result",
     "data": {
      "text/plain": [
       "  Ratio training:test  R2 on entire dataset  R2 on training data  \\\n",
       "0             0.7:0.3              0.021179             0.036316   \n",
       "1           0.75:0.25              0.025648             0.031203   \n",
       "2             0.8:0.2              0.025765             0.028995   \n",
       "\n",
       "   R2 on test data  \n",
       "0        -0.032734  \n",
       "1        -0.013907  \n",
       "2        -0.006173  "
      ],
      "text/html": "<div>\n<style scoped>\n    .dataframe tbody tr th:only-of-type {\n        vertical-align: middle;\n    }\n\n    .dataframe tbody tr th {\n        vertical-align: top;\n    }\n\n    .dataframe thead th {\n        text-align: right;\n    }\n</style>\n<table border=\"1\" class=\"dataframe\">\n  <thead>\n    <tr style=\"text-align: right;\">\n      <th></th>\n      <th>Ratio training:test</th>\n      <th>R2 on entire dataset</th>\n      <th>R2 on training data</th>\n      <th>R2 on test data</th>\n    </tr>\n  </thead>\n  <tbody>\n    <tr>\n      <th>0</th>\n      <td>0.7:0.3</td>\n      <td>0.021179</td>\n      <td>0.036316</td>\n      <td>-0.032734</td>\n    </tr>\n    <tr>\n      <th>1</th>\n      <td>0.75:0.25</td>\n      <td>0.025648</td>\n      <td>0.031203</td>\n      <td>-0.013907</td>\n    </tr>\n    <tr>\n      <th>2</th>\n      <td>0.8:0.2</td>\n      <td>0.025765</td>\n      <td>0.028995</td>\n      <td>-0.006173</td>\n    </tr>\n  </tbody>\n</table>\n</div>"
     },
     "metadata": {},
     "execution_count": 4
    }
   ],
   "source": [
    "test_sizes = (.3, .25, .2)\n",
    "svm_model = CSupportVectorMachine(X, y)\n",
    "evaluation_table = []\n",
    "\n",
    "for test_size in test_sizes:\n",
    "    all_scores = []\n",
    "    train_scores = []\n",
    "    test_scores = []\n",
    "\n",
    "    for _ in range(10):\n",
    "        svm_model.prepareData(test_size=test_size)\n",
    "        svm_model.initModel('regression', 'poly')\n",
    "        scores = svm_model.r2()\n",
    "        all_scores.append(scores['all'])\n",
    "        train_scores.append(scores['train'])\n",
    "        test_scores.append(scores['test'])\n",
    "\n",
    "    tmp = {\n",
    "        'Ratio training:test': '{}:{}'.format(1 - test_size, test_size),\n",
    "        'R2 on entire dataset': sum(all_scores)/10.,\n",
    "        'R2 on training data': sum(train_scores)/10.,\n",
    "        'R2 on test data': sum(test_scores)/10.,\n",
    "    }\n",
    "\n",
    "    evaluation_table.append(tmp)\n",
    "\n",
    "pd.DataFrame(evaluation_table)"
   ]
  },
  {
   "source": [
    "# Bó tay cô ơi"
   ],
   "cell_type": "markdown",
   "metadata": {}
  },
  {
   "cell_type": "code",
   "execution_count": null,
   "metadata": {},
   "outputs": [],
   "source": []
  }
 ]
}
{
 "metadata": {
  "language_info": {
   "codemirror_mode": {
    "name": "ipython",
    "version": 3
   },
   "file_extension": ".py",
   "mimetype": "text/x-python",
   "name": "python",
   "nbconvert_exporter": "python",
   "pygments_lexer": "ipython3",
   "version": "3.7.9-final"
  },
  "orig_nbformat": 2,
  "kernelspec": {
   "name": "python3",
   "display_name": "Python 3",
   "language": "python"
  }
 },
 "nbformat": 4,
 "nbformat_minor": 2,
 "cells": [
  {
   "source": [
    "# Build Model"
   ],
   "cell_type": "markdown",
   "metadata": {}
  },
  {
   "cell_type": "code",
   "execution_count": 1,
   "metadata": {},
   "outputs": [],
   "source": [
    "%load_ext autoreload\n",
    "%autoreload 2\n",
    "\n",
    "from modules.file import CPandasFile\n",
    "from modules.svm import CSupportVectorMachine\n",
    "import pandas as pd"
   ]
  },
  {
   "cell_type": "code",
   "execution_count": 2,
   "metadata": {},
   "outputs": [
    {
     "output_type": "execute_result",
     "data": {
      "text/plain": [
       "     Unnamed: 0  age  sex  cp  trestbps  fbs  restecg  thalach  exang  \\\n",
       "0             0   63    1   1       145    1        2      150      0   \n",
       "1             1   67    1   4       160    0        2      108      1   \n",
       "2             2   67    1   4       120    0        2      129      1   \n",
       "3             3   37    1   3       130    0        0      187      0   \n",
       "4             4   41    0   2       130    0        2      172      0   \n",
       "..          ...  ...  ...  ..       ...  ...      ...      ...    ...   \n",
       "298         298   45    1   1       110    0        0      132      0   \n",
       "299         299   68    1   4       144    1        0      141      0   \n",
       "300         300   57    1   4       130    0        0      115      1   \n",
       "301         301   57    0   2       130    0        2      174      0   \n",
       "302         302   38    1   3       138    0        0      173      0   \n",
       "\n",
       "     oldpeak  slope  ca  thal  num  chol  \n",
       "0        2.3      3   0     6    0   233  \n",
       "1        1.5      2   3     3    2   286  \n",
       "2        2.6      2   2     7    1   229  \n",
       "3        3.5      3   0     3    0   250  \n",
       "4        1.4      1   0     3    0   204  \n",
       "..       ...    ...  ..   ...  ...   ...  \n",
       "298      1.2      2   0     7    1   264  \n",
       "299      3.4      2   2     7    2   193  \n",
       "300      1.2      2   1     7    3   131  \n",
       "301      0.0      2   1     3    1   236  \n",
       "302      0.0      1   4     3    0   175  \n",
       "\n",
       "[303 rows x 15 columns]"
      ],
      "text/html": "<div>\n<style scoped>\n    .dataframe tbody tr th:only-of-type {\n        vertical-align: middle;\n    }\n\n    .dataframe tbody tr th {\n        vertical-align: top;\n    }\n\n    .dataframe thead th {\n        text-align: right;\n    }\n</style>\n<table border=\"1\" class=\"dataframe\">\n  <thead>\n    <tr style=\"text-align: right;\">\n      <th></th>\n      <th>Unnamed: 0</th>\n      <th>age</th>\n      <th>sex</th>\n      <th>cp</th>\n      <th>trestbps</th>\n      <th>fbs</th>\n      <th>restecg</th>\n      <th>thalach</th>\n      <th>exang</th>\n      <th>oldpeak</th>\n      <th>slope</th>\n      <th>ca</th>\n      <th>thal</th>\n      <th>num</th>\n      <th>chol</th>\n    </tr>\n  </thead>\n  <tbody>\n    <tr>\n      <th>0</th>\n      <td>0</td>\n      <td>63</td>\n      <td>1</td>\n      <td>1</td>\n      <td>145</td>\n      <td>1</td>\n      <td>2</td>\n      <td>150</td>\n      <td>0</td>\n      <td>2.3</td>\n      <td>3</td>\n      <td>0</td>\n      <td>6</td>\n      <td>0</td>\n      <td>233</td>\n    </tr>\n    <tr>\n      <th>1</th>\n      <td>1</td>\n      <td>67</td>\n      <td>1</td>\n      <td>4</td>\n      <td>160</td>\n      <td>0</td>\n      <td>2</td>\n      <td>108</td>\n      <td>1</td>\n      <td>1.5</td>\n      <td>2</td>\n      <td>3</td>\n      <td>3</td>\n      <td>2</td>\n      <td>286</td>\n    </tr>\n    <tr>\n      <th>2</th>\n      <td>2</td>\n      <td>67</td>\n      <td>1</td>\n      <td>4</td>\n      <td>120</td>\n      <td>0</td>\n      <td>2</td>\n      <td>129</td>\n      <td>1</td>\n      <td>2.6</td>\n      <td>2</td>\n      <td>2</td>\n      <td>7</td>\n      <td>1</td>\n      <td>229</td>\n    </tr>\n    <tr>\n      <th>3</th>\n      <td>3</td>\n      <td>37</td>\n      <td>1</td>\n      <td>3</td>\n      <td>130</td>\n      <td>0</td>\n      <td>0</td>\n      <td>187</td>\n      <td>0</td>\n      <td>3.5</td>\n      <td>3</td>\n      <td>0</td>\n      <td>3</td>\n      <td>0</td>\n      <td>250</td>\n    </tr>\n    <tr>\n      <th>4</th>\n      <td>4</td>\n      <td>41</td>\n      <td>0</td>\n      <td>2</td>\n      <td>130</td>\n      <td>0</td>\n      <td>2</td>\n      <td>172</td>\n      <td>0</td>\n      <td>1.4</td>\n      <td>1</td>\n      <td>0</td>\n      <td>3</td>\n      <td>0</td>\n      <td>204</td>\n    </tr>\n    <tr>\n      <th>...</th>\n      <td>...</td>\n      <td>...</td>\n      <td>...</td>\n      <td>...</td>\n      <td>...</td>\n      <td>...</td>\n      <td>...</td>\n      <td>...</td>\n      <td>...</td>\n      <td>...</td>\n      <td>...</td>\n      <td>...</td>\n      <td>...</td>\n      <td>...</td>\n      <td>...</td>\n    </tr>\n    <tr>\n      <th>298</th>\n      <td>298</td>\n      <td>45</td>\n      <td>1</td>\n      <td>1</td>\n      <td>110</td>\n      <td>0</td>\n      <td>0</td>\n      <td>132</td>\n      <td>0</td>\n      <td>1.2</td>\n      <td>2</td>\n      <td>0</td>\n      <td>7</td>\n      <td>1</td>\n      <td>264</td>\n    </tr>\n    <tr>\n      <th>299</th>\n      <td>299</td>\n      <td>68</td>\n      <td>1</td>\n      <td>4</td>\n      <td>144</td>\n      <td>1</td>\n      <td>0</td>\n      <td>141</td>\n      <td>0</td>\n      <td>3.4</td>\n      <td>2</td>\n      <td>2</td>\n      <td>7</td>\n      <td>2</td>\n      <td>193</td>\n    </tr>\n    <tr>\n      <th>300</th>\n      <td>300</td>\n      <td>57</td>\n      <td>1</td>\n      <td>4</td>\n      <td>130</td>\n      <td>0</td>\n      <td>0</td>\n      <td>115</td>\n      <td>1</td>\n      <td>1.2</td>\n      <td>2</td>\n      <td>1</td>\n      <td>7</td>\n      <td>3</td>\n      <td>131</td>\n    </tr>\n    <tr>\n      <th>301</th>\n      <td>301</td>\n      <td>57</td>\n      <td>0</td>\n      <td>2</td>\n      <td>130</td>\n      <td>0</td>\n      <td>2</td>\n      <td>174</td>\n      <td>0</td>\n      <td>0.0</td>\n      <td>2</td>\n      <td>1</td>\n      <td>3</td>\n      <td>1</td>\n      <td>236</td>\n    </tr>\n    <tr>\n      <th>302</th>\n      <td>302</td>\n      <td>38</td>\n      <td>1</td>\n      <td>3</td>\n      <td>138</td>\n      <td>0</td>\n      <td>0</td>\n      <td>173</td>\n      <td>0</td>\n      <td>0.0</td>\n      <td>1</td>\n      <td>4</td>\n      <td>3</td>\n      <td>0</td>\n      <td>175</td>\n    </tr>\n  </tbody>\n</table>\n<p>303 rows × 15 columns</p>\n</div>"
     },
     "metadata": {},
     "execution_count": 2
    }
   ],
   "source": [
    "cholesterol_raw = CPandasFile().readCsv(r'./data/cholesterol.csv')\n",
    "\n",
    "cholesterol_raw"
   ]
  },
  {
   "cell_type": "code",
   "execution_count": 3,
   "metadata": {},
   "outputs": [
    {
     "output_type": "execute_result",
     "data": {
      "text/plain": [
       "(     Unnamed: 0  age  sex  cp  trestbps  fbs  restecg  thalach  exang  \\\n",
       " 0             0   63    1   1       145    1        2      150      0   \n",
       " 1             1   67    1   4       160    0        2      108      1   \n",
       " 2             2   67    1   4       120    0        2      129      1   \n",
       " 3             3   37    1   3       130    0        0      187      0   \n",
       " 4             4   41    0   2       130    0        2      172      0   \n",
       " ..          ...  ...  ...  ..       ...  ...      ...      ...    ...   \n",
       " 298         298   45    1   1       110    0        0      132      0   \n",
       " 299         299   68    1   4       144    1        0      141      0   \n",
       " 300         300   57    1   4       130    0        0      115      1   \n",
       " 301         301   57    0   2       130    0        2      174      0   \n",
       " 302         302   38    1   3       138    0        0      173      0   \n",
       " \n",
       "      oldpeak  slope  ca  thal  num  \n",
       " 0        2.3      3   0     6    0  \n",
       " 1        1.5      2   3     3    2  \n",
       " 2        2.6      2   2     7    1  \n",
       " 3        3.5      3   0     3    0  \n",
       " 4        1.4      1   0     3    0  \n",
       " ..       ...    ...  ..   ...  ...  \n",
       " 298      1.2      2   0     7    1  \n",
       " 299      3.4      2   2     7    2  \n",
       " 300      1.2      2   1     7    3  \n",
       " 301      0.0      2   1     3    1  \n",
       " 302      0.0      1   4     3    0  \n",
       " \n",
       " [303 rows x 14 columns],\n",
       " 0      233\n",
       " 1      286\n",
       " 2      229\n",
       " 3      250\n",
       " 4      204\n",
       "       ... \n",
       " 298    264\n",
       " 299    193\n",
       " 300    131\n",
       " 301    236\n",
       " 302    175\n",
       " Name: chol, Length: 303, dtype: int64)"
      ]
     },
     "metadata": {},
     "execution_count": 3
    }
   ],
   "source": [
    "X = cholesterol_raw.drop(columns=['chol'])\n",
    "y = cholesterol_raw['chol']\n",
    "\n",
    "X, y"
   ]
  },
  {
   "cell_type": "code",
   "execution_count": 12,
   "metadata": {},
   "outputs": [
    {
     "output_type": "execute_result",
     "data": {
      "text/plain": [
       "  Ratio training:test  Accuracy score\n",
       "0             0.7:0.3        0.018975\n",
       "1           0.75:0.25        0.020948\n",
       "2             0.8:0.2        0.020621"
      ],
      "text/html": "<div>\n<style scoped>\n    .dataframe tbody tr th:only-of-type {\n        vertical-align: middle;\n    }\n\n    .dataframe tbody tr th {\n        vertical-align: top;\n    }\n\n    .dataframe thead th {\n        text-align: right;\n    }\n</style>\n<table border=\"1\" class=\"dataframe\">\n  <thead>\n    <tr style=\"text-align: right;\">\n      <th></th>\n      <th>Ratio training:test</th>\n      <th>Accuracy score</th>\n    </tr>\n  </thead>\n  <tbody>\n    <tr>\n      <th>0</th>\n      <td>0.7:0.3</td>\n      <td>0.018975</td>\n    </tr>\n    <tr>\n      <th>1</th>\n      <td>0.75:0.25</td>\n      <td>0.020948</td>\n    </tr>\n    <tr>\n      <th>2</th>\n      <td>0.8:0.2</td>\n      <td>0.020621</td>\n    </tr>\n  </tbody>\n</table>\n</div>"
     },
     "metadata": {},
     "execution_count": 12
    }
   ],
   "source": [
    "test_sizes = (.3, .25, .2)\n",
    "svm_model = CSupportVectorMachine(X, y)\n",
    "evaluation_table = []\n",
    "\n",
    "for test_size in test_sizes:\n",
    "    accuracy_scores = []\n",
    "\n",
    "    for _ in range(10):\n",
    "        svm_model.prepareData(test_size=test_size)\n",
    "        svm_model.initModel('regression', 'poly')\n",
    "        accuracy_scores.append(svm_model.r2()['all'])\n",
    "\n",
    "    tmp = {\n",
    "        'Ratio training:test': '{}:{}'.format(1 - test_size, test_size),\n",
    "        'Accuracy score': sum(accuracy_scores)/10.\n",
    "    }\n",
    "\n",
    "    evaluation_table.append(tmp)\n",
    "\n",
    "pd.DataFrame(evaluation_table)"
   ]
  },
  {
   "cell_type": "code",
   "execution_count": null,
   "metadata": {},
   "outputs": [],
   "source": []
  }
 ]
}
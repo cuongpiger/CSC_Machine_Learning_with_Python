{
 "metadata": {
  "language_info": {
   "codemirror_mode": {
    "name": "ipython",
    "version": 3
   },
   "file_extension": ".py",
   "mimetype": "text/x-python",
   "name": "python",
   "nbconvert_exporter": "python",
   "pygments_lexer": "ipython3",
   "version": "3.8.5-final"
  },
  "orig_nbformat": 2,
  "kernelspec": {
   "name": "python38564bit739b5682ab17410ead4710a41bd80672",
   "display_name": "Python 3.8.5 64-bit"
  },
  "metadata": {
   "interpreter": {
    "hash": "31f2aee4e71d21fbe5cf8b01ff0e069b9275f58929596ceb00d14d90e3e16cd6"
   }
  }
 },
 "nbformat": 4,
 "nbformat_minor": 2,
 "cells": [
  {
   "cell_type": "code",
   "execution_count": 1,
   "metadata": {},
   "outputs": [],
   "source": [
    "%load_ext autoreload\n",
    "%autoreload 2"
   ]
  },
  {
   "cell_type": "code",
   "execution_count": 2,
   "metadata": {},
   "outputs": [],
   "source": [
    "import pandas as pd\n",
    "import numpy as np\n",
    "from modules.file import CPandasFile"
   ]
  },
  {
   "cell_type": "code",
   "execution_count": 3,
   "metadata": {},
   "outputs": [],
   "source": [
    "pandas_secretary = CPandasFile()\n"
   ]
  },
  {
   "source": [
    "1. Đọc dữ liệu"
   ],
   "cell_type": "markdown",
   "metadata": {}
  },
  {
   "cell_type": "code",
   "execution_count": 4,
   "metadata": {},
   "outputs": [
    {
     "output_type": "execute_result",
     "data": {
      "text/plain": [
       "                     sausage          whole milk  semi-finished bread  yogurt  \\\n",
       "0                 whole milk              pastry          salty snack     NaN   \n",
       "1                canned beer     misc. beverages                  NaN     NaN   \n",
       "2                    sausage    hygiene articles                  NaN     NaN   \n",
       "3                       soda  pickled vegetables                  NaN     NaN   \n",
       "4                frankfurter                curd                  NaN     NaN   \n",
       "...                      ...                 ...                  ...     ...   \n",
       "14957         tropical fruit             berries     other vegetables  yogurt   \n",
       "14958          bottled water               herbs                  NaN     NaN   \n",
       "14959  fruit/vegetable juice              onions                  NaN     NaN   \n",
       "14960                   soda     root vegetables  semi-finished bread     NaN   \n",
       "14961           bottled beer    other vegetables                  NaN     NaN   \n",
       "\n",
       "           Unnamed: 4 Unnamed: 5 Unnamed: 6 Unnamed: 7 Unnamed: 8 Unnamed: 9  \\\n",
       "0                 NaN        NaN        NaN        NaN        NaN        NaN   \n",
       "1                 NaN        NaN        NaN        NaN        NaN        NaN   \n",
       "2                 NaN        NaN        NaN        NaN        NaN        NaN   \n",
       "3                 NaN        NaN        NaN        NaN        NaN        NaN   \n",
       "4                 NaN        NaN        NaN        NaN        NaN        NaN   \n",
       "...               ...        ...        ...        ...        ...        ...   \n",
       "14957  kitchen towels    napkins        NaN        NaN        NaN        NaN   \n",
       "14958             NaN        NaN        NaN        NaN        NaN        NaN   \n",
       "14959             NaN        NaN        NaN        NaN        NaN        NaN   \n",
       "14960             NaN        NaN        NaN        NaN        NaN        NaN   \n",
       "14961             NaN        NaN        NaN        NaN        NaN        NaN   \n",
       "\n",
       "      Unnamed: 10  \n",
       "0             NaN  \n",
       "1             NaN  \n",
       "2             NaN  \n",
       "3             NaN  \n",
       "4             NaN  \n",
       "...           ...  \n",
       "14957         NaN  \n",
       "14958         NaN  \n",
       "14959         NaN  \n",
       "14960         NaN  \n",
       "14961         NaN  \n",
       "\n",
       "[14962 rows x 11 columns]"
      ],
      "text/html": "<div>\n<style scoped>\n    .dataframe tbody tr th:only-of-type {\n        vertical-align: middle;\n    }\n\n    .dataframe tbody tr th {\n        vertical-align: top;\n    }\n\n    .dataframe thead th {\n        text-align: right;\n    }\n</style>\n<table border=\"1\" class=\"dataframe\">\n  <thead>\n    <tr style=\"text-align: right;\">\n      <th></th>\n      <th>sausage</th>\n      <th>whole milk</th>\n      <th>semi-finished bread</th>\n      <th>yogurt</th>\n      <th>Unnamed: 4</th>\n      <th>Unnamed: 5</th>\n      <th>Unnamed: 6</th>\n      <th>Unnamed: 7</th>\n      <th>Unnamed: 8</th>\n      <th>Unnamed: 9</th>\n      <th>Unnamed: 10</th>\n    </tr>\n  </thead>\n  <tbody>\n    <tr>\n      <th>0</th>\n      <td>whole milk</td>\n      <td>pastry</td>\n      <td>salty snack</td>\n      <td>NaN</td>\n      <td>NaN</td>\n      <td>NaN</td>\n      <td>NaN</td>\n      <td>NaN</td>\n      <td>NaN</td>\n      <td>NaN</td>\n      <td>NaN</td>\n    </tr>\n    <tr>\n      <th>1</th>\n      <td>canned beer</td>\n      <td>misc. beverages</td>\n      <td>NaN</td>\n      <td>NaN</td>\n      <td>NaN</td>\n      <td>NaN</td>\n      <td>NaN</td>\n      <td>NaN</td>\n      <td>NaN</td>\n      <td>NaN</td>\n      <td>NaN</td>\n    </tr>\n    <tr>\n      <th>2</th>\n      <td>sausage</td>\n      <td>hygiene articles</td>\n      <td>NaN</td>\n      <td>NaN</td>\n      <td>NaN</td>\n      <td>NaN</td>\n      <td>NaN</td>\n      <td>NaN</td>\n      <td>NaN</td>\n      <td>NaN</td>\n      <td>NaN</td>\n    </tr>\n    <tr>\n      <th>3</th>\n      <td>soda</td>\n      <td>pickled vegetables</td>\n      <td>NaN</td>\n      <td>NaN</td>\n      <td>NaN</td>\n      <td>NaN</td>\n      <td>NaN</td>\n      <td>NaN</td>\n      <td>NaN</td>\n      <td>NaN</td>\n      <td>NaN</td>\n    </tr>\n    <tr>\n      <th>4</th>\n      <td>frankfurter</td>\n      <td>curd</td>\n      <td>NaN</td>\n      <td>NaN</td>\n      <td>NaN</td>\n      <td>NaN</td>\n      <td>NaN</td>\n      <td>NaN</td>\n      <td>NaN</td>\n      <td>NaN</td>\n      <td>NaN</td>\n    </tr>\n    <tr>\n      <th>...</th>\n      <td>...</td>\n      <td>...</td>\n      <td>...</td>\n      <td>...</td>\n      <td>...</td>\n      <td>...</td>\n      <td>...</td>\n      <td>...</td>\n      <td>...</td>\n      <td>...</td>\n      <td>...</td>\n    </tr>\n    <tr>\n      <th>14957</th>\n      <td>tropical fruit</td>\n      <td>berries</td>\n      <td>other vegetables</td>\n      <td>yogurt</td>\n      <td>kitchen towels</td>\n      <td>napkins</td>\n      <td>NaN</td>\n      <td>NaN</td>\n      <td>NaN</td>\n      <td>NaN</td>\n      <td>NaN</td>\n    </tr>\n    <tr>\n      <th>14958</th>\n      <td>bottled water</td>\n      <td>herbs</td>\n      <td>NaN</td>\n      <td>NaN</td>\n      <td>NaN</td>\n      <td>NaN</td>\n      <td>NaN</td>\n      <td>NaN</td>\n      <td>NaN</td>\n      <td>NaN</td>\n      <td>NaN</td>\n    </tr>\n    <tr>\n      <th>14959</th>\n      <td>fruit/vegetable juice</td>\n      <td>onions</td>\n      <td>NaN</td>\n      <td>NaN</td>\n      <td>NaN</td>\n      <td>NaN</td>\n      <td>NaN</td>\n      <td>NaN</td>\n      <td>NaN</td>\n      <td>NaN</td>\n      <td>NaN</td>\n    </tr>\n    <tr>\n      <th>14960</th>\n      <td>soda</td>\n      <td>root vegetables</td>\n      <td>semi-finished bread</td>\n      <td>NaN</td>\n      <td>NaN</td>\n      <td>NaN</td>\n      <td>NaN</td>\n      <td>NaN</td>\n      <td>NaN</td>\n      <td>NaN</td>\n      <td>NaN</td>\n    </tr>\n    <tr>\n      <th>14961</th>\n      <td>bottled beer</td>\n      <td>other vegetables</td>\n      <td>NaN</td>\n      <td>NaN</td>\n      <td>NaN</td>\n      <td>NaN</td>\n      <td>NaN</td>\n      <td>NaN</td>\n      <td>NaN</td>\n      <td>NaN</td>\n      <td>NaN</td>\n    </tr>\n  </tbody>\n</table>\n<p>14962 rows × 11 columns</p>\n</div>"
     },
     "metadata": {},
     "execution_count": 4
    }
   ],
   "source": [
    "items = pandas_secretary.readExcel(r'./data/ItemList.xlsx')\n",
    "\n",
    "items"
   ]
  },
  {
   "cell_type": "code",
   "execution_count": 5,
   "metadata": {},
   "outputs": [
    {
     "output_type": "execute_result",
     "data": {
      "text/plain": [
       "(14962, 11)"
      ]
     },
     "metadata": {},
     "execution_count": 5
    }
   ],
   "source": [
    "items.shape"
   ]
  },
  {
   "source": [
    "2. Chuẩn hóa dữ liệu"
   ],
   "cell_type": "markdown",
   "metadata": {}
  },
  {
   "cell_type": "code",
   "execution_count": 6,
   "metadata": {},
   "outputs": [],
   "source": [
    "records = []\n",
    "\n",
    "for i in range(0, items.shape[0]):\n",
    "    records.append([str(items.values[i, j]) for j in range(0, items.shape[1])])"
   ]
  },
  {
   "cell_type": "code",
   "execution_count": 7,
   "metadata": {},
   "outputs": [],
   "source": [
    "from modules.apriori import CApriori"
   ]
  },
  {
   "cell_type": "code",
   "execution_count": 17,
   "metadata": {},
   "outputs": [],
   "source": [
    "apriori_model = CApriori(records)\n",
    "df = apriori_model.initModel(0.01)"
   ]
  },
  {
   "cell_type": "code",
   "execution_count": 18,
   "metadata": {},
   "outputs": [
    {
     "output_type": "execute_result",
     "data": {
      "text/plain": [
       "                                 support\n",
       "itemsets                                \n",
       "(UHT-milk)                      0.021388\n",
       "(beef)                          0.033953\n",
       "(berries)                       0.021789\n",
       "(beverages)                     0.016575\n",
       "(bottled beer)                  0.045315\n",
       "...                                  ...\n",
       "(rolls/buns, other vegetables)  0.010560\n",
       "(whole milk, other vegetables)  0.014838\n",
       "(whole milk, rolls/buns)        0.013969\n",
       "(whole milk, soda)              0.011629\n",
       "(whole milk, yogurt)            0.011095\n",
       "\n",
       "[69 rows x 1 columns]"
      ],
      "text/html": "<div>\n<style scoped>\n    .dataframe tbody tr th:only-of-type {\n        vertical-align: middle;\n    }\n\n    .dataframe tbody tr th {\n        vertical-align: top;\n    }\n\n    .dataframe thead th {\n        text-align: right;\n    }\n</style>\n<table border=\"1\" class=\"dataframe\">\n  <thead>\n    <tr style=\"text-align: right;\">\n      <th></th>\n      <th>support</th>\n    </tr>\n    <tr>\n      <th>itemsets</th>\n      <th></th>\n    </tr>\n  </thead>\n  <tbody>\n    <tr>\n      <th>(UHT-milk)</th>\n      <td>0.021388</td>\n    </tr>\n    <tr>\n      <th>(beef)</th>\n      <td>0.033953</td>\n    </tr>\n    <tr>\n      <th>(berries)</th>\n      <td>0.021789</td>\n    </tr>\n    <tr>\n      <th>(beverages)</th>\n      <td>0.016575</td>\n    </tr>\n    <tr>\n      <th>(bottled beer)</th>\n      <td>0.045315</td>\n    </tr>\n    <tr>\n      <th>...</th>\n      <td>...</td>\n    </tr>\n    <tr>\n      <th>(rolls/buns, other vegetables)</th>\n      <td>0.010560</td>\n    </tr>\n    <tr>\n      <th>(whole milk, other vegetables)</th>\n      <td>0.014838</td>\n    </tr>\n    <tr>\n      <th>(whole milk, rolls/buns)</th>\n      <td>0.013969</td>\n    </tr>\n    <tr>\n      <th>(whole milk, soda)</th>\n      <td>0.011629</td>\n    </tr>\n    <tr>\n      <th>(whole milk, yogurt)</th>\n      <td>0.011095</td>\n    </tr>\n  </tbody>\n</table>\n<p>69 rows × 1 columns</p>\n</div>"
     },
     "metadata": {},
     "execution_count": 18
    }
   ],
   "source": [
    "df"
   ]
  },
  {
   "source": [
    "> **Nhận xét**\n",
    "> * Các mặt hàng, kết hợp trên có nhiều hơn 1% đơn hàng trên tổng số các đơn hàng"
   ],
   "cell_type": "markdown",
   "metadata": {}
  },
  {
   "cell_type": "code",
   "execution_count": 20,
   "metadata": {},
   "outputs": [
    {
     "output_type": "execute_result",
     "data": {
      "text/plain": [
       "          antecedents         consequents  antecedent support  \\\n",
       "0        (rolls/buns)  (other vegetables)            0.110012   \n",
       "1  (other vegetables)        (rolls/buns)            0.122109   \n",
       "2        (whole milk)  (other vegetables)            0.157867   \n",
       "3  (other vegetables)        (whole milk)            0.122109   \n",
       "4        (whole milk)        (rolls/buns)            0.157867   \n",
       "5        (rolls/buns)        (whole milk)            0.110012   \n",
       "6        (whole milk)              (soda)            0.157867   \n",
       "7              (soda)        (whole milk)            0.097113   \n",
       "8        (whole milk)            (yogurt)            0.157867   \n",
       "9            (yogurt)        (whole milk)            0.085817   \n",
       "\n",
       "   consequent support   support  confidence      lift  leverage  conviction  \n",
       "0            0.122109  0.010560    0.095990  0.786101 -0.002873    0.971108  \n",
       "1            0.110012  0.010560    0.086481  0.786101 -0.002873    0.974241  \n",
       "2            0.122109  0.014838    0.093988  0.769705 -0.004439    0.968962  \n",
       "3            0.157867  0.014838    0.121511  0.769705 -0.004439    0.958615  \n",
       "4            0.110012  0.013969    0.088484  0.804315 -0.003399    0.976383  \n",
       "5            0.157867  0.013969    0.126974  0.804315 -0.003399    0.964615  \n",
       "6            0.097113  0.011629    0.073666  0.758566 -0.003701    0.974689  \n",
       "7            0.157867  0.011629    0.119752  0.758566 -0.003701    0.956700  \n",
       "8            0.085817  0.011095    0.070279  0.818941 -0.002453    0.983287  \n",
       "9            0.157867  0.011095    0.129283  0.818941 -0.002453    0.967173  "
      ],
      "text/html": "<div>\n<style scoped>\n    .dataframe tbody tr th:only-of-type {\n        vertical-align: middle;\n    }\n\n    .dataframe tbody tr th {\n        vertical-align: top;\n    }\n\n    .dataframe thead th {\n        text-align: right;\n    }\n</style>\n<table border=\"1\" class=\"dataframe\">\n  <thead>\n    <tr style=\"text-align: right;\">\n      <th></th>\n      <th>antecedents</th>\n      <th>consequents</th>\n      <th>antecedent support</th>\n      <th>consequent support</th>\n      <th>support</th>\n      <th>confidence</th>\n      <th>lift</th>\n      <th>leverage</th>\n      <th>conviction</th>\n    </tr>\n  </thead>\n  <tbody>\n    <tr>\n      <th>0</th>\n      <td>(rolls/buns)</td>\n      <td>(other vegetables)</td>\n      <td>0.110012</td>\n      <td>0.122109</td>\n      <td>0.010560</td>\n      <td>0.095990</td>\n      <td>0.786101</td>\n      <td>-0.002873</td>\n      <td>0.971108</td>\n    </tr>\n    <tr>\n      <th>1</th>\n      <td>(other vegetables)</td>\n      <td>(rolls/buns)</td>\n      <td>0.122109</td>\n      <td>0.110012</td>\n      <td>0.010560</td>\n      <td>0.086481</td>\n      <td>0.786101</td>\n      <td>-0.002873</td>\n      <td>0.974241</td>\n    </tr>\n    <tr>\n      <th>2</th>\n      <td>(whole milk)</td>\n      <td>(other vegetables)</td>\n      <td>0.157867</td>\n      <td>0.122109</td>\n      <td>0.014838</td>\n      <td>0.093988</td>\n      <td>0.769705</td>\n      <td>-0.004439</td>\n      <td>0.968962</td>\n    </tr>\n    <tr>\n      <th>3</th>\n      <td>(other vegetables)</td>\n      <td>(whole milk)</td>\n      <td>0.122109</td>\n      <td>0.157867</td>\n      <td>0.014838</td>\n      <td>0.121511</td>\n      <td>0.769705</td>\n      <td>-0.004439</td>\n      <td>0.958615</td>\n    </tr>\n    <tr>\n      <th>4</th>\n      <td>(whole milk)</td>\n      <td>(rolls/buns)</td>\n      <td>0.157867</td>\n      <td>0.110012</td>\n      <td>0.013969</td>\n      <td>0.088484</td>\n      <td>0.804315</td>\n      <td>-0.003399</td>\n      <td>0.976383</td>\n    </tr>\n    <tr>\n      <th>5</th>\n      <td>(rolls/buns)</td>\n      <td>(whole milk)</td>\n      <td>0.110012</td>\n      <td>0.157867</td>\n      <td>0.013969</td>\n      <td>0.126974</td>\n      <td>0.804315</td>\n      <td>-0.003399</td>\n      <td>0.964615</td>\n    </tr>\n    <tr>\n      <th>6</th>\n      <td>(whole milk)</td>\n      <td>(soda)</td>\n      <td>0.157867</td>\n      <td>0.097113</td>\n      <td>0.011629</td>\n      <td>0.073666</td>\n      <td>0.758566</td>\n      <td>-0.003701</td>\n      <td>0.974689</td>\n    </tr>\n    <tr>\n      <th>7</th>\n      <td>(soda)</td>\n      <td>(whole milk)</td>\n      <td>0.097113</td>\n      <td>0.157867</td>\n      <td>0.011629</td>\n      <td>0.119752</td>\n      <td>0.758566</td>\n      <td>-0.003701</td>\n      <td>0.956700</td>\n    </tr>\n    <tr>\n      <th>8</th>\n      <td>(whole milk)</td>\n      <td>(yogurt)</td>\n      <td>0.157867</td>\n      <td>0.085817</td>\n      <td>0.011095</td>\n      <td>0.070279</td>\n      <td>0.818941</td>\n      <td>-0.002453</td>\n      <td>0.983287</td>\n    </tr>\n    <tr>\n      <th>9</th>\n      <td>(yogurt)</td>\n      <td>(whole milk)</td>\n      <td>0.085817</td>\n      <td>0.157867</td>\n      <td>0.011095</td>\n      <td>0.129283</td>\n      <td>0.818941</td>\n      <td>-0.002453</td>\n      <td>0.967173</td>\n    </tr>\n  </tbody>\n</table>\n</div>"
     },
     "metadata": {},
     "execution_count": 20
    }
   ],
   "source": [
    "apriori_model.associationInfo('confidence', 0.02)"
   ]
  },
  {
   "source": [
    "> **Nhận xét**\n",
    "> * Các **consequents** trên lớn hơn 2% khả năng sẽ dc mua nếu **antecedents** dc mua"
   ],
   "cell_type": "markdown",
   "metadata": {}
  },
  {
   "cell_type": "code",
   "execution_count": 22,
   "metadata": {},
   "outputs": [
    {
     "output_type": "execute_result",
     "data": {
      "text/plain": [
       "          antecedents         consequents  antecedent support  \\\n",
       "0        (rolls/buns)  (other vegetables)            0.110012   \n",
       "1  (other vegetables)        (rolls/buns)            0.122109   \n",
       "2        (whole milk)  (other vegetables)            0.157867   \n",
       "3  (other vegetables)        (whole milk)            0.122109   \n",
       "4        (whole milk)        (rolls/buns)            0.157867   \n",
       "5        (rolls/buns)        (whole milk)            0.110012   \n",
       "6        (whole milk)              (soda)            0.157867   \n",
       "7              (soda)        (whole milk)            0.097113   \n",
       "8        (whole milk)            (yogurt)            0.157867   \n",
       "9            (yogurt)        (whole milk)            0.085817   \n",
       "\n",
       "   consequent support   support  confidence      lift  leverage  conviction  \n",
       "0            0.122109  0.010560    0.095990  0.786101 -0.002873    0.971108  \n",
       "1            0.110012  0.010560    0.086481  0.786101 -0.002873    0.974241  \n",
       "2            0.122109  0.014838    0.093988  0.769705 -0.004439    0.968962  \n",
       "3            0.157867  0.014838    0.121511  0.769705 -0.004439    0.958615  \n",
       "4            0.110012  0.013969    0.088484  0.804315 -0.003399    0.976383  \n",
       "5            0.157867  0.013969    0.126974  0.804315 -0.003399    0.964615  \n",
       "6            0.097113  0.011629    0.073666  0.758566 -0.003701    0.974689  \n",
       "7            0.157867  0.011629    0.119752  0.758566 -0.003701    0.956700  \n",
       "8            0.085817  0.011095    0.070279  0.818941 -0.002453    0.983287  \n",
       "9            0.157867  0.011095    0.129283  0.818941 -0.002453    0.967173  "
      ],
      "text/html": "<div>\n<style scoped>\n    .dataframe tbody tr th:only-of-type {\n        vertical-align: middle;\n    }\n\n    .dataframe tbody tr th {\n        vertical-align: top;\n    }\n\n    .dataframe thead th {\n        text-align: right;\n    }\n</style>\n<table border=\"1\" class=\"dataframe\">\n  <thead>\n    <tr style=\"text-align: right;\">\n      <th></th>\n      <th>antecedents</th>\n      <th>consequents</th>\n      <th>antecedent support</th>\n      <th>consequent support</th>\n      <th>support</th>\n      <th>confidence</th>\n      <th>lift</th>\n      <th>leverage</th>\n      <th>conviction</th>\n    </tr>\n  </thead>\n  <tbody>\n    <tr>\n      <th>0</th>\n      <td>(rolls/buns)</td>\n      <td>(other vegetables)</td>\n      <td>0.110012</td>\n      <td>0.122109</td>\n      <td>0.010560</td>\n      <td>0.095990</td>\n      <td>0.786101</td>\n      <td>-0.002873</td>\n      <td>0.971108</td>\n    </tr>\n    <tr>\n      <th>1</th>\n      <td>(other vegetables)</td>\n      <td>(rolls/buns)</td>\n      <td>0.122109</td>\n      <td>0.110012</td>\n      <td>0.010560</td>\n      <td>0.086481</td>\n      <td>0.786101</td>\n      <td>-0.002873</td>\n      <td>0.974241</td>\n    </tr>\n    <tr>\n      <th>2</th>\n      <td>(whole milk)</td>\n      <td>(other vegetables)</td>\n      <td>0.157867</td>\n      <td>0.122109</td>\n      <td>0.014838</td>\n      <td>0.093988</td>\n      <td>0.769705</td>\n      <td>-0.004439</td>\n      <td>0.968962</td>\n    </tr>\n    <tr>\n      <th>3</th>\n      <td>(other vegetables)</td>\n      <td>(whole milk)</td>\n      <td>0.122109</td>\n      <td>0.157867</td>\n      <td>0.014838</td>\n      <td>0.121511</td>\n      <td>0.769705</td>\n      <td>-0.004439</td>\n      <td>0.958615</td>\n    </tr>\n    <tr>\n      <th>4</th>\n      <td>(whole milk)</td>\n      <td>(rolls/buns)</td>\n      <td>0.157867</td>\n      <td>0.110012</td>\n      <td>0.013969</td>\n      <td>0.088484</td>\n      <td>0.804315</td>\n      <td>-0.003399</td>\n      <td>0.976383</td>\n    </tr>\n    <tr>\n      <th>5</th>\n      <td>(rolls/buns)</td>\n      <td>(whole milk)</td>\n      <td>0.110012</td>\n      <td>0.157867</td>\n      <td>0.013969</td>\n      <td>0.126974</td>\n      <td>0.804315</td>\n      <td>-0.003399</td>\n      <td>0.964615</td>\n    </tr>\n    <tr>\n      <th>6</th>\n      <td>(whole milk)</td>\n      <td>(soda)</td>\n      <td>0.157867</td>\n      <td>0.097113</td>\n      <td>0.011629</td>\n      <td>0.073666</td>\n      <td>0.758566</td>\n      <td>-0.003701</td>\n      <td>0.974689</td>\n    </tr>\n    <tr>\n      <th>7</th>\n      <td>(soda)</td>\n      <td>(whole milk)</td>\n      <td>0.097113</td>\n      <td>0.157867</td>\n      <td>0.011629</td>\n      <td>0.119752</td>\n      <td>0.758566</td>\n      <td>-0.003701</td>\n      <td>0.956700</td>\n    </tr>\n    <tr>\n      <th>8</th>\n      <td>(whole milk)</td>\n      <td>(yogurt)</td>\n      <td>0.157867</td>\n      <td>0.085817</td>\n      <td>0.011095</td>\n      <td>0.070279</td>\n      <td>0.818941</td>\n      <td>-0.002453</td>\n      <td>0.983287</td>\n    </tr>\n    <tr>\n      <th>9</th>\n      <td>(yogurt)</td>\n      <td>(whole milk)</td>\n      <td>0.085817</td>\n      <td>0.157867</td>\n      <td>0.011095</td>\n      <td>0.129283</td>\n      <td>0.818941</td>\n      <td>-0.002453</td>\n      <td>0.967173</td>\n    </tr>\n  </tbody>\n</table>\n</div>"
     },
     "metadata": {},
     "execution_count": 22
    }
   ],
   "source": [
    "apriori_model.associationInfo('lift', 0.02)"
   ]
  },
  {
   "source": [
    "> **Nhận xét**\n",
    "> * Nhìn chung, các **consequents** và **antecedents** đều có giá trị lift tiến về  1, chứng tỏ chúng có khả năng rất cao sẽ dc mua cùng nhau."
   ],
   "cell_type": "markdown",
   "metadata": {}
  },
  {
   "cell_type": "code",
   "execution_count": null,
   "metadata": {},
   "outputs": [],
   "source": []
  }
 ]
}
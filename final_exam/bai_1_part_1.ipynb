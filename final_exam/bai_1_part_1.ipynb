{
 "metadata": {
  "language_info": {
   "codemirror_mode": {
    "name": "ipython",
    "version": 3
   },
   "file_extension": ".py",
   "mimetype": "text/x-python",
   "name": "python",
   "nbconvert_exporter": "python",
   "pygments_lexer": "ipython3",
   "version": "3.7.9-final"
  },
  "orig_nbformat": 2,
  "kernelspec": {
   "name": "python379jvsc74a57bd0036ec3eb5f2d73b31e516e5c446a4fa2f4dc3bbcc367ed469fce238f16d62617",
   "display_name": "Python 3.7.9 64-bit ('base': conda)"
  }
 },
 "nbformat": 4,
 "nbformat_minor": 2,
 "cells": [
  {
   "source": [
    "# Part 1: Tiền xử lí dữ liệu"
   ],
   "cell_type": "markdown",
   "metadata": {}
  },
  {
   "cell_type": "code",
   "execution_count": 1,
   "metadata": {},
   "outputs": [],
   "source": [
    "%load_ext autoreload\n",
    "%autoreload 2"
   ]
  },
  {
   "cell_type": "code",
   "execution_count": 2,
   "metadata": {},
   "outputs": [],
   "source": [
    "import pandas as pd\n",
    "import numpy as np\n",
    "from modules.file import CFolder, CPandasFile\n",
    "from modules.preprocessing import CPreprocessing\n",
    "from typing import List"
   ]
  },
  {
   "cell_type": "code",
   "execution_count": 3,
   "metadata": {},
   "outputs": [],
   "source": [
    "folder = CFolder()\n",
    "secretary = CPreprocessing()\n",
    "pandas_file = CPandasFile()"
   ]
  },
  {
   "source": [
    "1. Lấy danh sách tất cả các file có đuôi là `*.txt` từ folder `./data/bbc`"
   ],
   "cell_type": "markdown",
   "metadata": {}
  },
  {
   "cell_type": "code",
   "execution_count": 4,
   "metadata": {},
   "outputs": [
    {
     "output_type": "execute_result",
     "data": {
      "text/plain": [
       "['./data/bbc/sport/092.txt',\n",
       " './data/bbc/sport/098.txt',\n",
       " './data/bbc/sport/283.txt',\n",
       " './data/bbc/sport/123.txt',\n",
       " './data/bbc/sport/417.txt']"
      ]
     },
     "metadata": {},
     "execution_count": 4
    }
   ],
   "source": [
    "txt_files: List[str] = folder.getAllFileInsideFolder(r\"./data/bbc/\", \".txt\")\n",
    "\n",
    "txt_files[:5]"
   ]
  },
  {
   "source": [
    "2. Tải dữ liệu vào lưu vào DataFrame `news`, đồng thời tiến hành tiền xử lí dữ liệu"
   ],
   "cell_type": "markdown",
   "metadata": {}
  },
  {
   "cell_type": "code",
   "execution_count": 5,
   "metadata": {},
   "outputs": [
    {
     "output_type": "execute_result",
     "data": {
      "text/plain": [
       "                                                content     class\n",
       "0     collin call chamber return world champion kim ...     sport\n",
       "1     ronaldo consid new contract manchest unit wing...     sport\n",
       "2     tv call carrol error spur boss martin jol said...     sport\n",
       "3     england defens crisi grow england defens worri...     sport\n",
       "4     darci injuri add ireland woe gordon darci ha r...     sport\n",
       "...                                                 ...       ...\n",
       "2220  disney settl disclosur charg walt disney ha se...  business\n",
       "2221  fed chief warn us deficit feder reserv chairma...  business\n",
       "2222  indonesia declin debt freez indonesia longer n...  business\n",
       "2223  market signal brazilian recoveri brazilian sto...  business\n",
       "2224  economi strong elect year uk busi set prosper ...  business\n",
       "\n",
       "[2225 rows x 2 columns]"
      ],
      "text/html": "<div>\n<style scoped>\n    .dataframe tbody tr th:only-of-type {\n        vertical-align: middle;\n    }\n\n    .dataframe tbody tr th {\n        vertical-align: top;\n    }\n\n    .dataframe thead th {\n        text-align: right;\n    }\n</style>\n<table border=\"1\" class=\"dataframe\">\n  <thead>\n    <tr style=\"text-align: right;\">\n      <th></th>\n      <th>content</th>\n      <th>class</th>\n    </tr>\n  </thead>\n  <tbody>\n    <tr>\n      <th>0</th>\n      <td>collin call chamber return world champion kim ...</td>\n      <td>sport</td>\n    </tr>\n    <tr>\n      <th>1</th>\n      <td>ronaldo consid new contract manchest unit wing...</td>\n      <td>sport</td>\n    </tr>\n    <tr>\n      <th>2</th>\n      <td>tv call carrol error spur boss martin jol said...</td>\n      <td>sport</td>\n    </tr>\n    <tr>\n      <th>3</th>\n      <td>england defens crisi grow england defens worri...</td>\n      <td>sport</td>\n    </tr>\n    <tr>\n      <th>4</th>\n      <td>darci injuri add ireland woe gordon darci ha r...</td>\n      <td>sport</td>\n    </tr>\n    <tr>\n      <th>...</th>\n      <td>...</td>\n      <td>...</td>\n    </tr>\n    <tr>\n      <th>2220</th>\n      <td>disney settl disclosur charg walt disney ha se...</td>\n      <td>business</td>\n    </tr>\n    <tr>\n      <th>2221</th>\n      <td>fed chief warn us deficit feder reserv chairma...</td>\n      <td>business</td>\n    </tr>\n    <tr>\n      <th>2222</th>\n      <td>indonesia declin debt freez indonesia longer n...</td>\n      <td>business</td>\n    </tr>\n    <tr>\n      <th>2223</th>\n      <td>market signal brazilian recoveri brazilian sto...</td>\n      <td>business</td>\n    </tr>\n    <tr>\n      <th>2224</th>\n      <td>economi strong elect year uk busi set prosper ...</td>\n      <td>business</td>\n    </tr>\n  </tbody>\n</table>\n<p>2225 rows × 2 columns</p>\n</div>"
     },
     "metadata": {},
     "execution_count": 5
    }
   ],
   "source": [
    "data = []\n",
    "\n",
    "for path in txt_files:\n",
    "    group = path.split('/')[-2]\n",
    "    content = secretary.textPreprocessing(open(path, \"r\", encoding='unicode_escape').read())\n",
    "    data.append([content, group])\n",
    "\n",
    "news = pd.DataFrame(data, columns=['content', 'class'])\n",
    "\n",
    "news"
   ]
  },
  {
   "source": [
    "3. Ghi `news` ra file csv để tái sử dụng lại khi cần"
   ],
   "cell_type": "markdown",
   "metadata": {}
  },
  {
   "cell_type": "code",
   "execution_count": 6,
   "metadata": {},
   "outputs": [
    {
     "output_type": "stream",
     "name": "stdout",
     "text": [
      "✅ Success!\n"
     ]
    }
   ],
   "source": [
    "pandas_file.writeCsv(news, r'./data/news.csv')"
   ]
  }
 ]
}